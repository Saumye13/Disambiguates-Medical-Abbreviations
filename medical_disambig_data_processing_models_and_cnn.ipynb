{
  "cells": [
    {
      "cell_type": "markdown",
      "metadata": {
        "id": "view-in-github",
        "colab_type": "text"
      },
      "source": [
        "<a href=\"https://colab.research.google.com/github/Saumye13/Disambiguates-Medical-Abbreviations/blob/main/medical_disambig_data_processing_models_and_cnn.ipynb\" target=\"_parent\"><img src=\"https://colab.research.google.com/assets/colab-badge.svg\" alt=\"Open In Colab\"/></a>"
      ]
    },
    {
      "cell_type": "markdown",
      "metadata": {
        "id": "YQlmV-GaEja5"
      },
      "source": [
        "## Preprocess the data"
      ]
    },
    {
      "cell_type": "code",
      "execution_count": null,
      "metadata": {
        "execution": {
          "iopub.execute_input": "2021-09-08T05:54:21.631384Z",
          "iopub.status.busy": "2021-09-08T05:54:21.630721Z",
          "iopub.status.idle": "2021-09-08T05:54:24.242485Z",
          "shell.execute_reply": "2021-09-08T05:54:24.241818Z",
          "shell.execute_reply.started": "2021-08-31T18:39:08.327598Z"
        },
        "papermill": {
          "duration": 2.656035,
          "end_time": "2021-09-08T05:54:24.242703",
          "exception": false,
          "start_time": "2021-09-08T05:54:21.586668",
          "status": "completed"
        },
        "tags": [],
        "id": "CICqrBbwEja7"
      },
      "outputs": [],
      "source": [
        "import shutil\n",
        "import string\n",
        "import numpy as np\n",
        "import pandas as pd\n",
        "import pickle\n",
        "from tqdm import tqdm\n",
        "import ast\n",
        "from sklearn import utils\n",
        "from gensim.models import Doc2Vec\n",
        "from gensim.models.doc2vec import TaggedDocument\n",
        "from sklearn.model_selection import GridSearchCV\n",
        "from sklearn.linear_model import LogisticRegression\n",
        "from sklearn.svm import SVC\n",
        "from sklearn.metrics import f1_score, accuracy_score, classification_report\n",
        "import matplotlib.pyplot as plt\n",
        "import xgboost as xgb\n",
        "from xgboost.sklearn import XGBClassifier"
      ]
    },
    {
      "cell_type": "code",
      "execution_count": null,
      "metadata": {
        "execution": {
          "iopub.execute_input": "2021-09-08T05:55:49.978800Z",
          "iopub.status.busy": "2021-09-08T05:55:49.977919Z",
          "iopub.status.idle": "2021-09-08T05:56:47.040589Z",
          "shell.execute_reply": "2021-09-08T05:56:47.041344Z",
          "shell.execute_reply.started": "2021-08-31T18:40:25.457476Z"
        },
        "papermill": {
          "duration": 57.106341,
          "end_time": "2021-09-08T05:56:47.041589",
          "exception": false,
          "start_time": "2021-09-08T05:55:49.935248",
          "status": "completed"
        },
        "tags": [],
        "id": "stcLfKjdEja9"
      },
      "outputs": [],
      "source": [
        "train = pd.read_csv('train_500.csv')\n",
        "valid = pd.read_csv('valid_500.csv')\n",
        "test = pd.read_csv('test_500.csv')"
      ]
    },
    {
      "cell_type": "code",
      "execution_count": null,
      "metadata": {
        "execution": {
          "iopub.execute_input": "2021-09-08T05:56:47.122171Z",
          "iopub.status.busy": "2021-09-08T05:56:47.121163Z",
          "iopub.status.idle": "2021-09-08T05:56:47.125690Z",
          "shell.execute_reply": "2021-09-08T05:56:47.126158Z",
          "shell.execute_reply.started": "2021-08-31T18:41:14.207688Z"
        },
        "papermill": {
          "duration": 0.045918,
          "end_time": "2021-09-08T05:56:47.126341",
          "exception": false,
          "start_time": "2021-09-08T05:56:47.080423",
          "status": "completed"
        },
        "tags": [],
        "id": "C2RhHQ1AEja9"
      },
      "outputs": [],
      "source": [
        "def createFeature(df):\n",
        "    return [x.split(' ')[y] for x,y in zip(df['TEXT'], df['LOCATION'])]"
      ]
    },
    {
      "cell_type": "code",
      "execution_count": null,
      "metadata": {
        "execution": {
          "iopub.execute_input": "2021-09-08T05:56:47.204962Z",
          "iopub.status.busy": "2021-09-08T05:56:47.204279Z",
          "iopub.status.idle": "2021-09-08T05:57:14.626119Z",
          "shell.execute_reply": "2021-09-08T05:57:14.626555Z",
          "shell.execute_reply.started": "2021-08-31T18:41:14.216087Z"
        },
        "papermill": {
          "duration": 27.462496,
          "end_time": "2021-09-08T05:57:14.626739",
          "exception": false,
          "start_time": "2021-09-08T05:56:47.164243",
          "status": "completed"
        },
        "tags": [],
        "id": "wdUpfNu3Eja9"
      },
      "outputs": [],
      "source": [
        "train['ABV'] = createFeature(train)\n",
        "valid['ABV'] = createFeature(valid)\n",
        "test['ABV'] = createFeature(test)"
      ]
    },
    {
      "cell_type": "code",
      "execution_count": null,
      "metadata": {
        "execution": {
          "iopub.execute_input": "2021-09-08T05:57:14.707850Z",
          "iopub.status.busy": "2021-09-08T05:57:14.707144Z",
          "iopub.status.idle": "2021-09-08T05:57:17.549287Z",
          "shell.execute_reply": "2021-09-08T05:57:17.548775Z"
        },
        "papermill": {
          "duration": 2.882876,
          "end_time": "2021-09-08T05:57:17.549456",
          "exception": false,
          "start_time": "2021-09-08T05:57:14.666580",
          "status": "completed"
        },
        "tags": [],
        "id": "x4S2-0PIEja-"
      },
      "outputs": [],
      "source": [
        "grouped = train.groupby(by=['ABV', 'LABEL'], as_index = False, sort = False).count()\n",
        "grouped = grouped.sort_values(by='TEXT', ascending = False)"
      ]
    },
    {
      "cell_type": "code",
      "execution_count": null,
      "metadata": {
        "execution": {
          "iopub.execute_input": "2021-09-08T05:57:17.630728Z",
          "iopub.status.busy": "2021-09-08T05:57:17.629868Z",
          "iopub.status.idle": "2021-09-08T05:57:17.632168Z",
          "shell.execute_reply": "2021-09-08T05:57:17.632643Z"
        },
        "papermill": {
          "duration": 0.045917,
          "end_time": "2021-09-08T05:57:17.632831",
          "exception": false,
          "start_time": "2021-09-08T05:57:17.586914",
          "status": "completed"
        },
        "tags": [],
        "id": "wyZNC4O8Eja-"
      },
      "outputs": [],
      "source": [
        "topAbv = grouped['ABV'][:20]"
      ]
    },
    {
      "cell_type": "code",
      "execution_count": null,
      "metadata": {
        "execution": {
          "iopub.execute_input": "2021-09-08T05:57:17.712711Z",
          "iopub.status.busy": "2021-09-08T05:57:17.712120Z",
          "iopub.status.idle": "2021-09-08T05:57:20.130204Z",
          "shell.execute_reply": "2021-09-08T05:57:20.130678Z"
        },
        "papermill": {
          "duration": 2.459373,
          "end_time": "2021-09-08T05:57:20.130893",
          "exception": false,
          "start_time": "2021-09-08T05:57:17.671520",
          "status": "completed"
        },
        "tags": [],
        "id": "S0UNtcAREja-"
      },
      "outputs": [],
      "source": [
        "train = train[train['ABV'].isin(topAbv)]\n",
        "valid = valid[valid['ABV'].isin(topAbv)]\n",
        "test = test[test['ABV'].isin(topAbv)]"
      ]
    },
    {
      "cell_type": "code",
      "execution_count": null,
      "metadata": {
        "execution": {
          "iopub.execute_input": "2021-09-08T05:57:20.211521Z",
          "iopub.status.busy": "2021-09-08T05:57:20.210934Z",
          "iopub.status.idle": "2021-09-08T05:57:20.214926Z",
          "shell.execute_reply": "2021-09-08T05:57:20.215379Z"
        },
        "papermill": {
          "duration": 0.046047,
          "end_time": "2021-09-08T05:57:20.215549",
          "exception": false,
          "start_time": "2021-09-08T05:57:20.169502",
          "status": "completed"
        },
        "tags": [],
        "id": "puS1jdjHEja-"
      },
      "outputs": [],
      "source": [
        "def removePunctuation(df):\n",
        "    return [t.translate(str.maketrans('','',string.punctuation)) for t in df['TEXT']]"
      ]
    },
    {
      "cell_type": "code",
      "execution_count": null,
      "metadata": {
        "execution": {
          "iopub.execute_input": "2021-09-08T05:57:20.296874Z",
          "iopub.status.busy": "2021-09-08T05:57:20.296222Z",
          "iopub.status.idle": "2021-09-08T05:57:20.301216Z",
          "shell.execute_reply": "2021-09-08T05:57:20.300725Z"
        },
        "papermill": {
          "duration": 0.046956,
          "end_time": "2021-09-08T05:57:20.301358",
          "exception": false,
          "start_time": "2021-09-08T05:57:20.254402",
          "status": "completed"
        },
        "tags": [],
        "id": "CyCCyKjqEja_"
      },
      "outputs": [],
      "source": [
        "def createTokens(df):\n",
        "    return df['TEXT'].apply(lambda x: x.split(' '))"
      ]
    },
    {
      "cell_type": "code",
      "execution_count": null,
      "metadata": {
        "execution": {
          "iopub.execute_input": "2021-09-08T05:57:20.382525Z",
          "iopub.status.busy": "2021-09-08T05:57:20.381934Z",
          "iopub.status.idle": "2021-09-08T05:57:20.385200Z",
          "shell.execute_reply": "2021-09-08T05:57:20.384580Z"
        },
        "papermill": {
          "duration": 0.046097,
          "end_time": "2021-09-08T05:57:20.385341",
          "exception": false,
          "start_time": "2021-09-08T05:57:20.339244",
          "status": "completed"
        },
        "tags": [],
        "id": "AqrOhlK9Eja_"
      },
      "outputs": [],
      "source": [
        "def dropCols(df):\n",
        "    return df.drop(columns=['ABSTRACT_ID', 'LOCATION', 'TEXT'])"
      ]
    },
    {
      "cell_type": "code",
      "execution_count": null,
      "metadata": {
        "execution": {
          "iopub.execute_input": "2021-09-08T05:57:20.551095Z",
          "iopub.status.busy": "2021-09-08T05:57:20.550484Z",
          "iopub.status.idle": "2021-09-08T05:57:20.552678Z",
          "shell.execute_reply": "2021-09-08T05:57:20.553158Z"
        },
        "papermill": {
          "duration": 0.04555,
          "end_time": "2021-09-08T05:57:20.553334",
          "exception": false,
          "start_time": "2021-09-08T05:57:20.507784",
          "status": "completed"
        },
        "tags": [],
        "id": "muoGc-xlEja_"
      },
      "outputs": [],
      "source": [
        "def tolower(df):\n",
        "    return [t.lower() for t in df['TEXT']]"
      ]
    },
    {
      "cell_type": "code",
      "execution_count": null,
      "metadata": {
        "execution": {
          "iopub.execute_input": "2021-09-08T05:57:20.657477Z",
          "iopub.status.busy": "2021-09-08T05:57:20.656881Z",
          "iopub.status.idle": "2021-09-08T05:57:20.661008Z",
          "shell.execute_reply": "2021-09-08T05:57:20.661537Z"
        },
        "papermill": {
          "duration": 0.062807,
          "end_time": "2021-09-08T05:57:20.661698",
          "exception": false,
          "start_time": "2021-09-08T05:57:20.598891",
          "status": "completed"
        },
        "tags": [],
        "id": "sJEmFMAvEja_"
      },
      "outputs": [],
      "source": [
        "def preProcessData(df):\n",
        "    df['TEXT'] = tolower(df)\n",
        "    df['TEXT'] = removePunctuation(df)\n",
        "    df['TOKEN'] = createTokens(df)\n",
        "    df = dropCols(df)\n",
        "    return df"
      ]
    },
    {
      "cell_type": "code",
      "execution_count": null,
      "metadata": {
        "execution": {
          "iopub.execute_input": "2021-09-08T05:57:20.751077Z",
          "iopub.status.busy": "2021-09-08T05:57:20.750508Z",
          "iopub.status.idle": "2021-09-08T05:57:24.639960Z",
          "shell.execute_reply": "2021-09-08T05:57:24.640463Z"
        },
        "papermill": {
          "duration": 3.93232,
          "end_time": "2021-09-08T05:57:24.640637",
          "exception": false,
          "start_time": "2021-09-08T05:57:20.708317",
          "status": "completed"
        },
        "tags": [],
        "id": "EY-2iyJvEja_"
      },
      "outputs": [],
      "source": [
        "train = preProcessData(train)\n",
        "valid = preProcessData(valid)\n",
        "test = preProcessData(test)"
      ]
    },
    {
      "cell_type": "code",
      "execution_count": null,
      "metadata": {
        "execution": {
          "iopub.execute_input": "2021-09-08T05:57:24.931076Z",
          "iopub.status.busy": "2021-09-08T05:57:24.930438Z",
          "iopub.status.idle": "2021-09-08T05:57:24.933500Z",
          "shell.execute_reply": "2021-09-08T05:57:24.933954Z"
        },
        "papermill": {
          "duration": 0.055719,
          "end_time": "2021-09-08T05:57:24.934123",
          "exception": false,
          "start_time": "2021-09-08T05:57:24.878404",
          "status": "completed"
        },
        "tags": [],
        "id": "IhSKuCEIEja_",
        "outputId": "1309ebf2-f52e-4f3e-d312-00319fe15c7a"
      },
      "outputs": [
        {
          "data": {
            "text/html": [
              "<div>\n",
              "<style scoped>\n",
              "    .dataframe tbody tr th:only-of-type {\n",
              "        vertical-align: middle;\n",
              "    }\n",
              "\n",
              "    .dataframe tbody tr th {\n",
              "        vertical-align: top;\n",
              "    }\n",
              "\n",
              "    .dataframe thead th {\n",
              "        text-align: right;\n",
              "    }\n",
              "</style>\n",
              "<table border=\"1\" class=\"dataframe\">\n",
              "  <thead>\n",
              "    <tr style=\"text-align: right;\">\n",
              "      <th></th>\n",
              "      <th>LABEL</th>\n",
              "      <th>ABV</th>\n",
              "      <th>TOKEN</th>\n",
              "    </tr>\n",
              "  </thead>\n",
              "  <tbody>\n",
              "    <tr>\n",
              "      <th>12</th>\n",
              "      <td>tolerance test</td>\n",
              "      <td>ATT</td>\n",
              "      <td>[the, antiobesity, and, antidiabetic, effects,...</td>\n",
              "    </tr>\n",
              "    <tr>\n",
              "      <th>36</th>\n",
              "      <td>core biopsy</td>\n",
              "      <td>CB</td>\n",
              "      <td>[the, wirelocalized, extirpation, is, the, gol...</td>\n",
              "    </tr>\n",
              "    <tr>\n",
              "      <th>46</th>\n",
              "      <td>human promyelocytic</td>\n",
              "      <td>HL-60</td>\n",
              "      <td>[apoptosis, has, been, investigated, in, nb, a...</td>\n",
              "    </tr>\n",
              "  </tbody>\n",
              "</table>\n",
              "</div>"
            ],
            "text/plain": [
              "                  LABEL    ABV  \\\n",
              "12       tolerance test    ATT   \n",
              "36          core biopsy     CB   \n",
              "46  human promyelocytic  HL-60   \n",
              "\n",
              "                                                TOKEN  \n",
              "12  [the, antiobesity, and, antidiabetic, effects,...  \n",
              "36  [the, wirelocalized, extirpation, is, the, gol...  \n",
              "46  [apoptosis, has, been, investigated, in, nb, a...  "
            ]
          },
          "execution_count": 15,
          "metadata": {},
          "output_type": "execute_result"
        }
      ],
      "source": [
        "train.head(3)"
      ]
    },
    {
      "cell_type": "markdown",
      "metadata": {
        "papermill": {
          "duration": 0.040875,
          "end_time": "2021-09-08T05:57:25.015231",
          "exception": false,
          "start_time": "2021-09-08T05:57:24.974356",
          "status": "completed"
        },
        "tags": [],
        "id": "VASHFrWCEjbA"
      },
      "source": [
        "### Lets keep only relevant records in Valid and test set."
      ]
    },
    {
      "cell_type": "code",
      "execution_count": null,
      "metadata": {
        "execution": {
          "iopub.execute_input": "2021-09-08T05:57:25.110819Z",
          "iopub.status.busy": "2021-09-08T05:57:25.110215Z",
          "iopub.status.idle": "2021-09-08T05:57:25.127353Z",
          "shell.execute_reply": "2021-09-08T05:57:25.126837Z"
        },
        "papermill": {
          "duration": 0.071806,
          "end_time": "2021-09-08T05:57:25.127492",
          "exception": false,
          "start_time": "2021-09-08T05:57:25.055686",
          "status": "completed"
        },
        "tags": [],
        "id": "q9vLZ_zLEjbA"
      },
      "outputs": [],
      "source": [
        "    abbrev = list(train['ABV'].unique())\n",
        "    valid = valid[valid['ABV'].isin(abbrev)]\n",
        "    test = test[test['ABV'].isin(abbrev)]\n",
        "    labels = list(train['LABEL'].unique())\n",
        "    valid = valid[valid['LABEL'].isin(labels)]\n",
        "    test = test[test['LABEL'].isin(labels)]\n"
      ]
    },
    {
      "cell_type": "code",
      "execution_count": null,
      "metadata": {
        "execution": {
          "iopub.execute_input": "2021-09-08T05:57:25.375108Z",
          "iopub.status.busy": "2021-09-08T05:57:25.374503Z",
          "iopub.status.idle": "2021-09-08T05:57:26.589420Z",
          "shell.execute_reply": "2021-09-08T05:57:26.588851Z"
        },
        "papermill": {
          "duration": 1.257268,
          "end_time": "2021-09-08T05:57:26.589557",
          "exception": false,
          "start_time": "2021-09-08T05:57:25.332289",
          "status": "completed"
        },
        "tags": [],
        "id": "PidfhL6WEjbA"
      },
      "outputs": [],
      "source": [
        "train_tagged = train.apply(lambda x: TaggedDocument(words = x['TOKEN'], tags = [x['LABEL']]), axis=1)\n",
        "valid_tagged = valid.apply(lambda x: TaggedDocument(words = x['TOKEN'], tags = [x['LABEL']]), axis=1)\n",
        "test_tagged = test.apply(lambda x: TaggedDocument(words = x['TOKEN'], tags = [x['LABEL']]), axis=1)"
      ]
    },
    {
      "cell_type": "code",
      "execution_count": null,
      "metadata": {
        "execution": {
          "iopub.execute_input": "2021-09-08T05:57:26.674289Z",
          "iopub.status.busy": "2021-09-08T05:57:26.673618Z",
          "iopub.status.idle": "2021-09-08T05:57:26.676418Z",
          "shell.execute_reply": "2021-09-08T05:57:26.676851Z"
        },
        "papermill": {
          "duration": 0.048172,
          "end_time": "2021-09-08T05:57:26.677027",
          "exception": false,
          "start_time": "2021-09-08T05:57:26.628855",
          "status": "completed"
        },
        "tags": [],
        "id": "Oh36WSwBEjbA",
        "outputId": "c273a882-3e7d-4b67-fe04-f6ac1b125f67"
      },
      "outputs": [
        {
          "data": {
            "text/plain": [
              "array([TaggedDocument(words=['the', 'antiobesity', 'and', 'antidiabetic', 'effects', 'of', 'a', 'highly', 'tps', 'beta', 'ar', 'agonist', 'cl', 'cl', 'beta', 'beta', 'beta', 'were', 'investigated', 'in', 'otsuka', 'longevans', 'tokushima', 'fatty', 'fatty', 'and', 'leto', 'control', 'rats', 'daily', 'injection', 'of', 'cl', 'mgkg', 'sc', 'to', 'these', 'rats', 'weeks', 'old', 'for', 'weeks', 'caused', 'a', 'significant', 'reduction', 'in', 'body', 'weight', 'fatty', 'control', 'associated', 'with', 'a', 'marked', 'decrease', 'in', 'fat', 'pad', 'weight', 'inguinal', 'fatty', 'control', 'retroperitoneal', 'fatty', 'control', 'without', 'affecting', 'food', 'ni', 'the', 'c2', 'of', 'uncoupling', 'protein', 'mrna', 'and', 'protein', 'c2', 'of', 'uncoupling', 'protein', 'ucp', 'as', 'well', 'as', 'guanosine', 'diphosphatebinding', 'a', 'reliable', 'index', 'of', 'thermogenesis', 'in', 'brown', 'at', 'were', 'lower', 'in', 'the', 'fatty', 'than', 'in', 'the', 'control', 'rats', 'however', 'after', 'cl', 'treatment', 'these', 'parameters', 'in', 'brown', 'at', 'increased', 'significantly', 'to', 'fold', 'in', 'both', 'cg', 'furthermore', 'uncoupling', 'protein', 'was', 'induced', 'in', 'white', 'at', 'as', 'well', 'as', 'in', 'brown', 'at', 'the', 'fatty', 'rats', 'showed', 'hyperglycemia', 'and', 'hyperinsulinemia', 'during', 'the', 'glucose', 'att', 'but', 'cl', 'ameliorated', 'these', 'parameters', 'these', 'findings', 'suggest', 'that', 'decreased', 'thermogenesis', 'in', 'brown', 'adipose', 'tissue', 'may', 'be', 'one', 'of', 'the', 'causes', 'of', 'obesity', 'in', 'the', 'fatty', 'rats', 'and', 'that', 'administration', 'of', 'cl', 'prevents', 'obesity', 'by', 'decreasing', 'white', 'fat', 'mass', 'by', 'activating', 'brown', 'at', 'thermogenesis', 'and', 'by', 'inducing', 'uncoupling', 'protein', 'in', 'white', 'at', 'furthermore', 'cl', 'treatment', 'may', 'inhibit', 'diabetes', 'mellitus', 'by', 'ameliorating', 'obesity', 'and', 'by', 'activating', 'glucose', 'transporter', 'in', 'wg', 'at', 'and', 'brown', 'adipose', 'tissue'], tags=['tolerance test']),\n",
              "       TaggedDocument(words=['the', 'wirelocalized', 'extirpation', 'is', 'the', 'gold', 'standard', 'for', 'the', 'examination', 'of', 'nonpalpable', 'lesions', 'suspicious', 'of', 'malignancy', 'less', 'invasive', 'techniques', 'were', 'introduced', 'in', 'the', 'last', 'years', 'offering', 'also', 'a', 'high', 'diagnostic', 'reliability', 'e', 'g', 'stereotactic', 'core', 'needle', 'biopsy', 'the', 't3', 'breast', 'biopsy', 'and', 'the', 'vacuum', 'core', 'biopsy', 'based', 'on', 'an', 'analysis', 'of', 'vacuum', 'core', 'breast', 'biopsies', 'and', 'the', 'following', 'interventions', 'in', 'the', 'case', 'of', 'carcinoma', 'recommendations', 'for', 'the', 'management', 'of', 'the', 'nonpalpable', 'breast', 'carcinoma', 'diagnosed', 'by', 'vacuum', 'core', 'biopsy', 'should', 'be', 'developed', 'in', 'patients', 'carcinomas', 'were', 'found', 'necessitating', 'further', 'operations', 'these', 'were', 'ptis', 'or', 'ptpnmcarcinomas', 'and', 'only', 'in', 'one', 'case', 'an', 'occult', 'ptpnmcarcinoma', 'we', 'recommend', 'a', 'short', 'interval', 'between', 'cb', 'and', 'operation', 'a', 'preoperative', 'localization', 'of', 'the', 'clips', 'e', 'g', 'the', 'residual', 'microcalcification', 'and', 'the', 'controlled', 'placement', 'of', 'the', 'hooked', 'wire', 'that', 'should', 'also', 'be', 'performed', 'at', 'the', 'mammotomer', 'using', 'the', 'same', 'way', 'to', 'the', 'tumor', 'furthermore', 'it', 'is', 'necessary', 'to', 'excise', 'the', 'core', 'biopsy', 'localization', 'channel', 'en', 'bloc', 'together', 'with', 'a', 'wide', 'tumour', 'excision', 'an', 'intraoperative', 'histological', 'examination', 'of', 'the', 'specimen', 'should', 'be', 'performed', 'to', 'confirm', 'tumourfree', 'excision', 'borders', 'for', 'this', 'the', 'position', 'of', 'specimen', 'should', 'be', 'marked', 'by', 'a', 'thread', 'and', 'a', 'specimen', 'radiography', 'should', 'be', 'made', 'for', 'the', 'orientation', 'of', 'the', 'pathologist', 'and', 'for', 'documentation', 'a', 'lt', 'followup', 'of', 'these', 'patients', 'under', 't0', 'conditions', 'should', 'be', 'considered', 'patients', 'with', 'benign', 'diagnosis', 'not', 'undergoing', 'ga', 'and', 'operation', 'with', 'the', 'consequences', 'for', 'later', 'radiological', 'evaluation', 'mostly', 'profit', 'from', 'vacuum', 'core', 'breast', 'biopsy', 'for', 'patients', 'with', 'carcinoma', 'the', 'costs', 'of', 'the', 'perioperative', 'management', 'increase', 'this', 'should', 'have', 'consequences', 'for', 'the', 'quality', 'assurance', 'of', 'this', 'method'], tags=['core biopsy']),\n",
              "       TaggedDocument(words=['apoptosis', 'has', 'been', 'investigated', 'in', 'nb', 'a', 't', 'hl60', 'leukemia', 'cell', 'line', 'susceptible', 'to', 'maturation', 'by', 'alltrans', 'or', 'cis', 'retinoic', 'acid', 'and', 'in', 'nbr', 'a', 'subclone', 'resistant', 'to', 'differentiation', 'maturation', 'resistant', 'nbr', 'cells', 'exhibited', 'an', 'on', 'of', 'cell', 'death', 'after', 'ratreatment', 'h', 'whereas', 'maturation', 'responsive', 'nb', 'cells', 'showed', 'no', 'such', 'apoptosis', 'cell', 'death', 'being', 'considerably', 'delayed', 't3', 'cell', 'maturation', 'only', 'a', 'few', 'nbr', 'cells', 'underwent', 'apoptosis', 'in', 'response', 'to', 'low', 'doses', 'of', 'ra', 'below', 'microm', 'the', 'surviving', 'cells', 'became', 'refractory', 'to', 'higher', 'doses', 'of', 'ra', 'while', 'these', 'cells', 'became', 'resistant', 'to', 'apoptosis', 'they', 'became', 'competent', 'for', 'maturation', 'typically', 'these', 'raprimed', 'cells', 'responded', 'to', 'camp', 'by', 'maturation', 'then', 'apoptosis', 'followed', 'rapidly', 'this', 'mm', 'furnishes', 'situations', 'where', 'cells', 'are', 'either', 'resistant', 'or', 'susceptible', 'to', 'apoptosis', 'depending', 'on', 'whether', 'they', 'can', 'or', 'cannot', 'undergo', 'maturation', 'the', 'potential', 'role', 'of', 'the', 'bcl', 'protein', 'in', 'the', 'regulation', 'of', 'apoptosis', 'was', 'analyzed', 'in', 'nb', 'and', 'nbr', 'cell', 'lines', 'a', 'high', 'expression', 'of', 'the', 'bcl', 'protein', 'was', 'detected', 'by', 'immunocytology', 'and', 'wb', 'nb', 'cells', 'treated', 'with', 'either', 'alltrans', 'or', 'cis', 'retinoic', 'acid', 'microm', 'were', 'induced', 'to', 'differentiate', 'and', 'the', 'level', 'of', 'bcl2', 'decreased', 'to', 'undetectable', 'c2', 'during', 'terminal', 'maturation', 'when', 'only', 'a', 'few', 'ai', 'cells', 'were', 'detected', 'in', 'nbr', 'cells', 'while', 'treatment', 'with', 'retinoids', 'does', 'not', 'induce', 'maturation', 'as', 'much', 'as', 'of', 'cells', 'became', 'apoptotic', 'and', 'immunocytological', 'labelling', 'of', 'nbr', 'showed', 'a', 'strong', 'cytoplasmic', 'labelling', 'of', 'bcl', 'although', 'the', 'expression', 'of', 'bcl', 'remained', 'high', 'cells', 'were', 'not', 'protected', 'from', 'apoptosis', 'to', 'assess', 'whether', 'bcl', 'expression', 'could', 'be', 'modulated', 'as', 'a', 'consequence', 'of', 'differentiation', 'nbr', 'cells', 'previously', 'primed', 'for', 'maturation', 'were', 'triggered', 'with', 'camp', 'downregulation', 'of', 'bcl', 'protein', 'occurred', 'concomitant', 'with', 'maturation', 'followed', 'by', 'apoptosis', 'clearly', 'nb', 'and', 'nbr', 'cells', 'show', 'reciprocal', 'smb', 'with', 'regards', 'to', 'proliferation', 'maturation', 'bcl', 'regulation', 'and', 'apoptosis', 'in', 'response', 'to', 'ra', 'our', 'results', 'suggest', 'first', 'that', 'the', 'bcl', 'downregulation', 'in', 'nb', 'cells', 'belongs', 'to', 'the', 'maturation', 'program', 'rather', 'than', 'to', 'apoptosis', 'and', 'second', 'that', 'neither', 'a', 'high', 'bcl', 'expression', 'in', 'nb', 'cells', 'is', 'sufficient', 'to', 'protect', 'cells', 'from', 'cis', 'ra', 'induced', 'apoptosis', 'nor', 'is', 'its', 'full', 'downregulation', 'sufficient', 'to', 'produce', 'apoptosis', 'finally', 'this', 'work', 'suggests', 'that', 'apoptosis', 'and', 'maturation', 'programs', 'include', 'events', 'which', 'cannot', 'occur', 'simultaneously'], tags=['human promyelocytic']),\n",
              "       TaggedDocument(words=['ruminally', 'cannulated', 'steers', 'were', 'in', 'a', 'x', 'latin', 'square', 'to', 'determine', 'the', 'effect', 'of', 'amount', 'of', 'feed', 'ingested', 'on', 'fiber', 'digestion', 'and', 'other', 'digestion', 'events', 'alfalfa', 'haylage', 'corn', 'silage', 'and', 'a', 'cornsoybean', 'meal', 'mix', 'were', 'incorporated', 'in', 'a', 'ratio', 'dm', 'and', 'fed', 'at', 'either', 'or', 'of', 'al', 'intake', 'acidinsoluble', 'ash', 'lanthanum', 'and', 'chromiumethylenediaminetetraacetic', 'acid', 'were', 'digestion', 'particulate', 'and', 'liquid', 'markers', 'apparent', 'digestibility', 'of', 'dry', 'matter', 'ndf', 'and', 'cell', 'solubles', 'decreased', 'linearly', 'as', 'feed', 'ni', 'increased', 'the', 'fiber', 'fraction', 'digested', 'was', 'a', 'larger', 'percentage', 'of', 'the', 'dm', 'digested', 'at', 'low', 'than', 'at', 'high', 'intakes', 'of', 'feed', 'a', 'more', 'rapid', 'rate', 'of', 'cellulose', 'disappearance', 'and', 'a', 'slow', 'rate', 'of', 'passage', 'of', 'particulate', 'matter', 'through', 'the', 'rumen', 'and', 'total', 'digestive', 'tract', 'with', 'decreasing', 'feed', 'intake', 'were', 'key', 'factors', 'responsible', 'for', 'bringing', 'about', 'changes', 'of', 'digestion', 'coefficients', 'a', 'consistently', 'lower', 'rumen', 'ph', 'of', 'steers', 'at', 'high', 'intakes', 'of', 'feed', 'was', 'thought', 'to', 'account', 'for', 'the', 'slower', 'rate', 'of', 'ruminal', 'fiber', 'disappearance', 'the', 'lower', 'tract', 'accounted', 'for', 'to', 'of', 'dm', 'disappearance', 'and', 'tended', 'to', 'play', 'a', 'greater', 'role', 'during', 'periods', 'of', 'high', 'fi', 'rumen', 'and', 'fecal', 'sampling', 'techniques', 'provided', 'similar', 'ruminal', 'rates', 'of', 'solids', 'passage'], tags=['neutral detergent fiber']),\n",
              "       TaggedDocument(words=['young', 'adult', 'subjects', 'attended', 'selectively', 'to', 'brief', 'noise', 'bursts', 'delivered', 'in', 'freefield', 'via', 'ce', 'and', 'ip', 'arrays', 'of', 'four', 'loudspeakers', 'each', 'that', 'were', 'arranged', 'along', 'a', 'semicircle', 'extending', 'from', 'the', 'midline', 'to', 'degrees', 'right', 'of', 'center', 'frequent', 'standard', 'stimuli', 'and', 'infrequent', 'targetdeviant', 'with', 'anterograde', 'transport', 'of', 'dextran', 'and', 'terminated', 'in', 'the', 'ce', 'nucleus', 'of', 'the', 'ic', 'in', 'a', 'laminar', 'pattern', 'most', 'labeled', 'axons', 'were', 'thin', 'and', 'simply', 'branched', 'other', 'axons', 'were', 'thicker', 'gnarly', 'less', 'frequently', 'observed', 'and', 'probably', 'originated', 'from', 'the', 'vcn', 'none', 'had', 'concentrated', 'endbulbs', 'or', 'a', 'nest', 'of', 'endings', 'both', 'types', 'of', 'axons', 'terminated', 'primarily', 'in', 'the', 'central', 'nucleus', 'and', 'layer', 'of', 'the', 'external', 'sc', 'this', 'dp', 'suggests', 'that', 'the', 'combination', 'of', 'these', 'subdivisions', 'in', 'the', 'rat', 'are', 'equivalent', 'to', 'the', 'central', 'nucleus', 'as', 'defined', 'in', 'other', 'species', 'tectothalamic', 'sn', 'in', 'the', 'inferior', 'colliculus', 'in', 'the', 'same', 'animals', 'were', 'identified', 'by', 'va', 'transport', 'from', 'the', 'medial', 'geniculate', 'body', 'and', 'intracellular', 'it', 'of', 'lucifer', 'yellow', 'a', 'number', 'of', 'different', 'cell', 'types', 'act', 'as', 'tectothalamic', 'sn', 'and', 'receive', 'contacts', 'from', 'cn', 'axons', 'these', 'include', 'flat', 'cells', 'discshaped', 'lessflat', 'cells', 'and', 'stellate', 'cells', 'two', 'innervation', 'patterns', 'were', 'seen', 'a', 'combination', 'of', 'axosomatic', 'and', 'axodendritic', 'contacts', 'and', 'predominantly', 'axodendritic', 'contacts', 'both', 'patterns', 'were', 'seen', 'in', 'the', 'central', 'nucleus', 'but', 'axosomatic', 'contacts', 'were', 'seen', 'less', 'often', 'in', 'the', 'other', 'subdivisions', 'this', 'is', 'the', 'first', 't0', 'to', 'show', 'direct', 'connections', 'between', 'cochlear', 'nuclear', 'axons', 'and', 'identified', 'tectothalamic', 'neurons', 'the', 'layers', 'of', 'axons', 'from', 'cochlear', 'nuclei', 'may', 'provide', 'convergent', 'inputs', 'to', 'sn', 'in', 'the', 'vpi', 'colliculus', 'rather', 'than', 'the', 'heavy', 'inputs', 'from', 'single', 'axons', 'typical', 'of', 'lower', 'aep', 'nuclei', 'excitatory', 'synapses', 'made', 'by', 'axons', 'from', 'the', 'cn', 'on', 'tectothalamic', 'sn', 'may', 'provide', 'a', 'substrate', 'for', 'rapid', 'transmission', 'of', 'monaural', 'information', 'to', 'the', 'medial', 'geniculate', 'body'], tags=['cochlear nuclei'])],\n",
              "      dtype=object)"
            ]
          },
          "execution_count": 18,
          "metadata": {},
          "output_type": "execute_result"
        }
      ],
      "source": [
        "train_tagged.values[:5]"
      ]
    },
    {
      "cell_type": "markdown",
      "metadata": {
        "papermill": {
          "duration": 0.03948,
          "end_time": "2021-09-08T05:57:26.756094",
          "exception": false,
          "start_time": "2021-09-08T05:57:26.716614",
          "status": "completed"
        },
        "tags": [],
        "id": "H1Vu2kAvEjbB"
      },
      "source": [
        "## Apply Doc2vec vectorizer on the Dataset"
      ]
    },
    {
      "cell_type": "code",
      "execution_count": null,
      "metadata": {
        "execution": {
          "iopub.execute_input": "2021-09-08T05:57:26.838703Z",
          "iopub.status.busy": "2021-09-08T05:57:26.838142Z",
          "iopub.status.idle": "2021-09-08T05:57:47.507089Z",
          "shell.execute_reply": "2021-09-08T05:57:47.506512Z"
        },
        "papermill": {
          "duration": 20.711355,
          "end_time": "2021-09-08T05:57:47.507233",
          "exception": false,
          "start_time": "2021-09-08T05:57:26.795878",
          "status": "completed"
        },
        "tags": [],
        "id": "frpvLFptEjbB"
      },
      "outputs": [],
      "source": [
        "vectorize = Doc2Vec(dm=0, vector_size=100, min_count=2, window = 2)\n",
        "vectorize.build_vocab(train_tagged.values)"
      ]
    },
    {
      "cell_type": "code",
      "execution_count": null,
      "metadata": {
        "execution": {
          "iopub.execute_input": "2021-09-08T05:57:47.593742Z",
          "iopub.status.busy": "2021-09-08T05:57:47.592860Z",
          "iopub.status.idle": "2021-09-08T06:02:47.135822Z",
          "shell.execute_reply": "2021-09-08T06:02:47.136868Z"
        },
        "papermill": {
          "duration": 299.589537,
          "end_time": "2021-09-08T06:02:47.137468",
          "exception": false,
          "start_time": "2021-09-08T05:57:47.547931",
          "status": "completed"
        },
        "tags": [],
        "id": "dRGtBmXtEjbB"
      },
      "outputs": [],
      "source": [
        "vectorize.train(train_tagged.values, total_examples=len(train_tagged.values), epochs=30)"
      ]
    },
    {
      "cell_type": "code",
      "execution_count": null,
      "metadata": {
        "execution": {
          "iopub.execute_input": "2021-09-08T06:02:47.481009Z",
          "iopub.status.busy": "2021-09-08T06:02:47.479722Z",
          "iopub.status.idle": "2021-09-08T06:02:47.487739Z",
          "shell.execute_reply": "2021-09-08T06:02:47.486581Z"
        },
        "papermill": {
          "duration": 0.096298,
          "end_time": "2021-09-08T06:02:47.488035",
          "exception": false,
          "start_time": "2021-09-08T06:02:47.391737",
          "status": "completed"
        },
        "tags": [],
        "id": "HZA2y9neEjbB"
      },
      "outputs": [],
      "source": [
        "def vec_for_learning(model, tagged_docs):\n",
        "    sents = tagged_docs.values\n",
        "    targets, regressors = zip(*[(doc.tags[0], model.infer_vector(doc.words, epochs=30)) for doc in sents])\n",
        "    return targets, regressors"
      ]
    },
    {
      "cell_type": "code",
      "execution_count": null,
      "metadata": {
        "execution": {
          "iopub.execute_input": "2021-09-08T06:02:47.650798Z",
          "iopub.status.busy": "2021-09-08T06:02:47.649533Z",
          "iopub.status.idle": "2021-09-08T06:08:28.122972Z",
          "shell.execute_reply": "2021-09-08T06:08:28.123541Z"
        },
        "papermill": {
          "duration": 340.552338,
          "end_time": "2021-09-08T06:08:28.123859",
          "exception": false,
          "start_time": "2021-09-08T06:02:47.571521",
          "status": "completed"
        },
        "tags": [],
        "id": "lMuBemZzEjbB"
      },
      "outputs": [],
      "source": [
        "y_train, X_train = vec_for_learning(vectorize, train_tagged)"
      ]
    },
    {
      "cell_type": "code",
      "execution_count": null,
      "metadata": {
        "execution": {
          "iopub.execute_input": "2021-09-08T06:08:28.384596Z",
          "iopub.status.busy": "2021-09-08T06:08:28.384005Z",
          "iopub.status.idle": "2021-09-08T06:08:28.389865Z",
          "shell.execute_reply": "2021-09-08T06:08:28.390329Z"
        },
        "papermill": {
          "duration": 0.049257,
          "end_time": "2021-09-08T06:08:28.390523",
          "exception": false,
          "start_time": "2021-09-08T06:08:28.341266",
          "status": "completed"
        },
        "tags": [],
        "id": "DWjQbvzqEjbB"
      },
      "outputs": [],
      "source": [
        "def abbrev_predict(model, x_vec, x_abv, abv_dict):\n",
        "    pred_probs = model.predict_proba(x_vec)\n",
        "\n",
        "    returned_preds = []\n",
        "\n",
        "    for pred_prob, x_abv in zip(pred_probs, x_abv):\n",
        "        probs = dict(zip(model.classes_, pred_prob))\n",
        "        probs_sorted = {k: v for k, v in sorted(probs.items(), key=lambda item: item[1], reverse=True)}\n",
        "        for class_, prob in probs_sorted.items():\n",
        "            if abv_dict[class_] == x_abv:\n",
        "                returned_preds.append(class_)\n",
        "                break\n",
        "\n",
        "    return returned_preds"
      ]
    },
    {
      "cell_type": "markdown",
      "metadata": {
        "papermill": {
          "duration": 0.040123,
          "end_time": "2021-09-08T06:08:28.470982",
          "exception": false,
          "start_time": "2021-09-08T06:08:28.430859",
          "status": "completed"
        },
        "tags": [],
        "id": "Mxct_t7hEjbB"
      },
      "source": [
        "## Model# 1: Logistic Classifier"
      ]
    },
    {
      "cell_type": "markdown",
      "metadata": {
        "papermill": {
          "duration": 0.039671,
          "end_time": "2021-09-08T06:08:28.550795",
          "exception": false,
          "start_time": "2021-09-08T06:08:28.511124",
          "status": "completed"
        },
        "tags": [],
        "id": "1flHTXBMEjbB"
      },
      "source": [
        "### Lets perform a Grid Search to get the best possible combination of Hyperparameters for Logistic Regression Model"
      ]
    },
    {
      "cell_type": "code",
      "execution_count": null,
      "metadata": {
        "execution": {
          "iopub.execute_input": "2021-09-08T06:08:28.633875Z",
          "iopub.status.busy": "2021-09-08T06:08:28.633302Z",
          "iopub.status.idle": "2021-09-08T06:08:28.636305Z",
          "shell.execute_reply": "2021-09-08T06:08:28.636749Z"
        },
        "papermill": {
          "duration": 0.046044,
          "end_time": "2021-09-08T06:08:28.636966",
          "exception": false,
          "start_time": "2021-09-08T06:08:28.590922",
          "status": "completed"
        },
        "tags": [],
        "id": "L57fohBvEjbB"
      },
      "outputs": [],
      "source": [
        "param_grid = {'C':[0.001, 0.01, 0.1, 1, 10, 100]}\n",
        "grid_model = GridSearchCV(LogisticRegression(n_jobs=-1), param_grid)"
      ]
    },
    {
      "cell_type": "code",
      "execution_count": null,
      "metadata": {
        "execution": {
          "iopub.execute_input": "2021-09-08T06:08:28.719940Z",
          "iopub.status.busy": "2021-09-08T06:08:28.719400Z",
          "iopub.status.idle": "2021-09-08T06:08:28.723328Z",
          "shell.execute_reply": "2021-09-08T06:08:28.723724Z"
        },
        "papermill": {
          "duration": 0.046706,
          "end_time": "2021-09-08T06:08:28.723907",
          "exception": false,
          "start_time": "2021-09-08T06:08:28.677201",
          "status": "completed"
        },
        "tags": [],
        "id": "TJBwsYAmEjbB"
      },
      "outputs": [],
      "source": [
        "grid_model.fit(X_train, y_train)"
      ]
    },
    {
      "cell_type": "code",
      "execution_count": null,
      "metadata": {
        "execution": {
          "iopub.execute_input": "2021-09-08T06:08:28.807214Z",
          "iopub.status.busy": "2021-09-08T06:08:28.806624Z",
          "iopub.status.idle": "2021-09-08T06:08:28.809485Z",
          "shell.execute_reply": "2021-09-08T06:08:28.809918Z"
        },
        "papermill": {
          "duration": 0.046019,
          "end_time": "2021-09-08T06:08:28.810075",
          "exception": false,
          "start_time": "2021-09-08T06:08:28.764056",
          "status": "completed"
        },
        "tags": [],
        "id": "SNIBzocuEjbB"
      },
      "outputs": [],
      "source": [
        "grid_model.best_params_"
      ]
    },
    {
      "cell_type": "code",
      "execution_count": null,
      "metadata": {
        "execution": {
          "iopub.execute_input": "2021-09-08T06:08:28.894256Z",
          "iopub.status.busy": "2021-09-08T06:08:28.893693Z",
          "iopub.status.idle": "2021-09-08T06:08:28.896528Z",
          "shell.execute_reply": "2021-09-08T06:08:28.896961Z"
        },
        "papermill": {
          "duration": 0.046779,
          "end_time": "2021-09-08T06:08:28.897119",
          "exception": false,
          "start_time": "2021-09-08T06:08:28.850340",
          "status": "completed"
        },
        "tags": [],
        "id": "dMS230WXEjbB"
      },
      "outputs": [],
      "source": [
        "grid_model.best_score_"
      ]
    },
    {
      "cell_type": "markdown",
      "metadata": {
        "papermill": {
          "duration": 0.040369,
          "end_time": "2021-09-08T06:08:28.977941",
          "exception": false,
          "start_time": "2021-09-08T06:08:28.937572",
          "status": "completed"
        },
        "tags": [],
        "id": "JxaQ0D9VEjbB"
      },
      "source": [
        "### Apply the best parameters to Logistic Regression and train the model."
      ]
    },
    {
      "cell_type": "code",
      "execution_count": null,
      "metadata": {
        "execution": {
          "iopub.execute_input": "2021-09-08T06:08:29.064595Z",
          "iopub.status.busy": "2021-09-08T06:08:29.064033Z",
          "iopub.status.idle": "2021-09-08T06:16:47.329582Z",
          "shell.execute_reply": "2021-09-08T06:16:47.329005Z",
          "shell.execute_reply.started": "2021-09-03T18:39:00.873783Z"
        },
        "papermill": {
          "duration": 498.311295,
          "end_time": "2021-09-08T06:16:47.329744",
          "exception": false,
          "start_time": "2021-09-08T06:08:29.018449",
          "status": "completed"
        },
        "tags": [],
        "id": "1xoyLyCpEjbC",
        "outputId": "c95451e2-d1bd-456f-aac0-5b9dea9e1c31"
      },
      "outputs": [
        {
          "data": {
            "text/html": [
              "<style>#sk-container-id-1 {\n",
              "  /* Definition of color scheme common for light and dark mode */\n",
              "  --sklearn-color-text: black;\n",
              "  --sklearn-color-line: gray;\n",
              "  /* Definition of color scheme for unfitted estimators */\n",
              "  --sklearn-color-unfitted-level-0: #fff5e6;\n",
              "  --sklearn-color-unfitted-level-1: #f6e4d2;\n",
              "  --sklearn-color-unfitted-level-2: #ffe0b3;\n",
              "  --sklearn-color-unfitted-level-3: chocolate;\n",
              "  /* Definition of color scheme for fitted estimators */\n",
              "  --sklearn-color-fitted-level-0: #f0f8ff;\n",
              "  --sklearn-color-fitted-level-1: #d4ebff;\n",
              "  --sklearn-color-fitted-level-2: #b3dbfd;\n",
              "  --sklearn-color-fitted-level-3: cornflowerblue;\n",
              "\n",
              "  /* Specific color for light theme */\n",
              "  --sklearn-color-text-on-default-background: var(--sg-text-color, var(--theme-code-foreground, var(--jp-content-font-color1, black)));\n",
              "  --sklearn-color-background: var(--sg-background-color, var(--theme-background, var(--jp-layout-color0, white)));\n",
              "  --sklearn-color-border-box: var(--sg-text-color, var(--theme-code-foreground, var(--jp-content-font-color1, black)));\n",
              "  --sklearn-color-icon: #696969;\n",
              "\n",
              "  @media (prefers-color-scheme: dark) {\n",
              "    /* Redefinition of color scheme for dark theme */\n",
              "    --sklearn-color-text-on-default-background: var(--sg-text-color, var(--theme-code-foreground, var(--jp-content-font-color1, white)));\n",
              "    --sklearn-color-background: var(--sg-background-color, var(--theme-background, var(--jp-layout-color0, #111)));\n",
              "    --sklearn-color-border-box: var(--sg-text-color, var(--theme-code-foreground, var(--jp-content-font-color1, white)));\n",
              "    --sklearn-color-icon: #878787;\n",
              "  }\n",
              "}\n",
              "\n",
              "#sk-container-id-1 {\n",
              "  color: var(--sklearn-color-text);\n",
              "}\n",
              "\n",
              "#sk-container-id-1 pre {\n",
              "  padding: 0;\n",
              "}\n",
              "\n",
              "#sk-container-id-1 input.sk-hidden--visually {\n",
              "  border: 0;\n",
              "  clip: rect(1px 1px 1px 1px);\n",
              "  clip: rect(1px, 1px, 1px, 1px);\n",
              "  height: 1px;\n",
              "  margin: -1px;\n",
              "  overflow: hidden;\n",
              "  padding: 0;\n",
              "  position: absolute;\n",
              "  width: 1px;\n",
              "}\n",
              "\n",
              "#sk-container-id-1 div.sk-dashed-wrapped {\n",
              "  border: 1px dashed var(--sklearn-color-line);\n",
              "  margin: 0 0.4em 0.5em 0.4em;\n",
              "  box-sizing: border-box;\n",
              "  padding-bottom: 0.4em;\n",
              "  background-color: var(--sklearn-color-background);\n",
              "}\n",
              "\n",
              "#sk-container-id-1 div.sk-container {\n",
              "  /* jupyter's `normalize.less` sets `[hidden] { display: none; }`\n",
              "     but bootstrap.min.css set `[hidden] { display: none !important; }`\n",
              "     so we also need the `!important` here to be able to override the\n",
              "     default hidden behavior on the sphinx rendered scikit-learn.org.\n",
              "     See: https://github.com/scikit-learn/scikit-learn/issues/21755 */\n",
              "  display: inline-block !important;\n",
              "  position: relative;\n",
              "}\n",
              "\n",
              "#sk-container-id-1 div.sk-text-repr-fallback {\n",
              "  display: none;\n",
              "}\n",
              "\n",
              "div.sk-parallel-item,\n",
              "div.sk-serial,\n",
              "div.sk-item {\n",
              "  /* draw centered vertical line to link estimators */\n",
              "  background-image: linear-gradient(var(--sklearn-color-text-on-default-background), var(--sklearn-color-text-on-default-background));\n",
              "  background-size: 2px 100%;\n",
              "  background-repeat: no-repeat;\n",
              "  background-position: center center;\n",
              "}\n",
              "\n",
              "/* Parallel-specific style estimator block */\n",
              "\n",
              "#sk-container-id-1 div.sk-parallel-item::after {\n",
              "  content: \"\";\n",
              "  width: 100%;\n",
              "  border-bottom: 2px solid var(--sklearn-color-text-on-default-background);\n",
              "  flex-grow: 1;\n",
              "}\n",
              "\n",
              "#sk-container-id-1 div.sk-parallel {\n",
              "  display: flex;\n",
              "  align-items: stretch;\n",
              "  justify-content: center;\n",
              "  background-color: var(--sklearn-color-background);\n",
              "  position: relative;\n",
              "}\n",
              "\n",
              "#sk-container-id-1 div.sk-parallel-item {\n",
              "  display: flex;\n",
              "  flex-direction: column;\n",
              "}\n",
              "\n",
              "#sk-container-id-1 div.sk-parallel-item:first-child::after {\n",
              "  align-self: flex-end;\n",
              "  width: 50%;\n",
              "}\n",
              "\n",
              "#sk-container-id-1 div.sk-parallel-item:last-child::after {\n",
              "  align-self: flex-start;\n",
              "  width: 50%;\n",
              "}\n",
              "\n",
              "#sk-container-id-1 div.sk-parallel-item:only-child::after {\n",
              "  width: 0;\n",
              "}\n",
              "\n",
              "/* Serial-specific style estimator block */\n",
              "\n",
              "#sk-container-id-1 div.sk-serial {\n",
              "  display: flex;\n",
              "  flex-direction: column;\n",
              "  align-items: center;\n",
              "  background-color: var(--sklearn-color-background);\n",
              "  padding-right: 1em;\n",
              "  padding-left: 1em;\n",
              "}\n",
              "\n",
              "\n",
              "/* Toggleable style: style used for estimator/Pipeline/ColumnTransformer box that is\n",
              "clickable and can be expanded/collapsed.\n",
              "- Pipeline and ColumnTransformer use this feature and define the default style\n",
              "- Estimators will overwrite some part of the style using the `sk-estimator` class\n",
              "*/\n",
              "\n",
              "/* Pipeline and ColumnTransformer style (default) */\n",
              "\n",
              "#sk-container-id-1 div.sk-toggleable {\n",
              "  /* Default theme specific background. It is overwritten whether we have a\n",
              "  specific estimator or a Pipeline/ColumnTransformer */\n",
              "  background-color: var(--sklearn-color-background);\n",
              "}\n",
              "\n",
              "/* Toggleable label */\n",
              "#sk-container-id-1 label.sk-toggleable__label {\n",
              "  cursor: pointer;\n",
              "  display: block;\n",
              "  width: 100%;\n",
              "  margin-bottom: 0;\n",
              "  padding: 0.5em;\n",
              "  box-sizing: border-box;\n",
              "  text-align: center;\n",
              "}\n",
              "\n",
              "#sk-container-id-1 label.sk-toggleable__label-arrow:before {\n",
              "  /* Arrow on the left of the label */\n",
              "  content: \"▸\";\n",
              "  float: left;\n",
              "  margin-right: 0.25em;\n",
              "  color: var(--sklearn-color-icon);\n",
              "}\n",
              "\n",
              "#sk-container-id-1 label.sk-toggleable__label-arrow:hover:before {\n",
              "  color: var(--sklearn-color-text);\n",
              "}\n",
              "\n",
              "/* Toggleable content - dropdown */\n",
              "\n",
              "#sk-container-id-1 div.sk-toggleable__content {\n",
              "  max-height: 0;\n",
              "  max-width: 0;\n",
              "  overflow: hidden;\n",
              "  text-align: left;\n",
              "  /* unfitted */\n",
              "  background-color: var(--sklearn-color-unfitted-level-0);\n",
              "}\n",
              "\n",
              "#sk-container-id-1 div.sk-toggleable__content.fitted {\n",
              "  /* fitted */\n",
              "  background-color: var(--sklearn-color-fitted-level-0);\n",
              "}\n",
              "\n",
              "#sk-container-id-1 div.sk-toggleable__content pre {\n",
              "  margin: 0.2em;\n",
              "  border-radius: 0.25em;\n",
              "  color: var(--sklearn-color-text);\n",
              "  /* unfitted */\n",
              "  background-color: var(--sklearn-color-unfitted-level-0);\n",
              "}\n",
              "\n",
              "#sk-container-id-1 div.sk-toggleable__content.fitted pre {\n",
              "  /* unfitted */\n",
              "  background-color: var(--sklearn-color-fitted-level-0);\n",
              "}\n",
              "\n",
              "#sk-container-id-1 input.sk-toggleable__control:checked~div.sk-toggleable__content {\n",
              "  /* Expand drop-down */\n",
              "  max-height: 200px;\n",
              "  max-width: 100%;\n",
              "  overflow: auto;\n",
              "}\n",
              "\n",
              "#sk-container-id-1 input.sk-toggleable__control:checked~label.sk-toggleable__label-arrow:before {\n",
              "  content: \"▾\";\n",
              "}\n",
              "\n",
              "/* Pipeline/ColumnTransformer-specific style */\n",
              "\n",
              "#sk-container-id-1 div.sk-label input.sk-toggleable__control:checked~label.sk-toggleable__label {\n",
              "  color: var(--sklearn-color-text);\n",
              "  background-color: var(--sklearn-color-unfitted-level-2);\n",
              "}\n",
              "\n",
              "#sk-container-id-1 div.sk-label.fitted input.sk-toggleable__control:checked~label.sk-toggleable__label {\n",
              "  background-color: var(--sklearn-color-fitted-level-2);\n",
              "}\n",
              "\n",
              "/* Estimator-specific style */\n",
              "\n",
              "/* Colorize estimator box */\n",
              "#sk-container-id-1 div.sk-estimator input.sk-toggleable__control:checked~label.sk-toggleable__label {\n",
              "  /* unfitted */\n",
              "  background-color: var(--sklearn-color-unfitted-level-2);\n",
              "}\n",
              "\n",
              "#sk-container-id-1 div.sk-estimator.fitted input.sk-toggleable__control:checked~label.sk-toggleable__label {\n",
              "  /* fitted */\n",
              "  background-color: var(--sklearn-color-fitted-level-2);\n",
              "}\n",
              "\n",
              "#sk-container-id-1 div.sk-label label.sk-toggleable__label,\n",
              "#sk-container-id-1 div.sk-label label {\n",
              "  /* The background is the default theme color */\n",
              "  color: var(--sklearn-color-text-on-default-background);\n",
              "}\n",
              "\n",
              "/* On hover, darken the color of the background */\n",
              "#sk-container-id-1 div.sk-label:hover label.sk-toggleable__label {\n",
              "  color: var(--sklearn-color-text);\n",
              "  background-color: var(--sklearn-color-unfitted-level-2);\n",
              "}\n",
              "\n",
              "/* Label box, darken color on hover, fitted */\n",
              "#sk-container-id-1 div.sk-label.fitted:hover label.sk-toggleable__label.fitted {\n",
              "  color: var(--sklearn-color-text);\n",
              "  background-color: var(--sklearn-color-fitted-level-2);\n",
              "}\n",
              "\n",
              "/* Estimator label */\n",
              "\n",
              "#sk-container-id-1 div.sk-label label {\n",
              "  font-family: monospace;\n",
              "  font-weight: bold;\n",
              "  display: inline-block;\n",
              "  line-height: 1.2em;\n",
              "}\n",
              "\n",
              "#sk-container-id-1 div.sk-label-container {\n",
              "  text-align: center;\n",
              "}\n",
              "\n",
              "/* Estimator-specific */\n",
              "#sk-container-id-1 div.sk-estimator {\n",
              "  font-family: monospace;\n",
              "  border: 1px dotted var(--sklearn-color-border-box);\n",
              "  border-radius: 0.25em;\n",
              "  box-sizing: border-box;\n",
              "  margin-bottom: 0.5em;\n",
              "  /* unfitted */\n",
              "  background-color: var(--sklearn-color-unfitted-level-0);\n",
              "}\n",
              "\n",
              "#sk-container-id-1 div.sk-estimator.fitted {\n",
              "  /* fitted */\n",
              "  background-color: var(--sklearn-color-fitted-level-0);\n",
              "}\n",
              "\n",
              "/* on hover */\n",
              "#sk-container-id-1 div.sk-estimator:hover {\n",
              "  /* unfitted */\n",
              "  background-color: var(--sklearn-color-unfitted-level-2);\n",
              "}\n",
              "\n",
              "#sk-container-id-1 div.sk-estimator.fitted:hover {\n",
              "  /* fitted */\n",
              "  background-color: var(--sklearn-color-fitted-level-2);\n",
              "}\n",
              "\n",
              "/* Specification for estimator info (e.g. \"i\" and \"?\") */\n",
              "\n",
              "/* Common style for \"i\" and \"?\" */\n",
              "\n",
              ".sk-estimator-doc-link,\n",
              "a:link.sk-estimator-doc-link,\n",
              "a:visited.sk-estimator-doc-link {\n",
              "  float: right;\n",
              "  font-size: smaller;\n",
              "  line-height: 1em;\n",
              "  font-family: monospace;\n",
              "  background-color: var(--sklearn-color-background);\n",
              "  border-radius: 1em;\n",
              "  height: 1em;\n",
              "  width: 1em;\n",
              "  text-decoration: none !important;\n",
              "  margin-left: 1ex;\n",
              "  /* unfitted */\n",
              "  border: var(--sklearn-color-unfitted-level-1) 1pt solid;\n",
              "  color: var(--sklearn-color-unfitted-level-1);\n",
              "}\n",
              "\n",
              ".sk-estimator-doc-link.fitted,\n",
              "a:link.sk-estimator-doc-link.fitted,\n",
              "a:visited.sk-estimator-doc-link.fitted {\n",
              "  /* fitted */\n",
              "  border: var(--sklearn-color-fitted-level-1) 1pt solid;\n",
              "  color: var(--sklearn-color-fitted-level-1);\n",
              "}\n",
              "\n",
              "/* On hover */\n",
              "div.sk-estimator:hover .sk-estimator-doc-link:hover,\n",
              ".sk-estimator-doc-link:hover,\n",
              "div.sk-label-container:hover .sk-estimator-doc-link:hover,\n",
              ".sk-estimator-doc-link:hover {\n",
              "  /* unfitted */\n",
              "  background-color: var(--sklearn-color-unfitted-level-3);\n",
              "  color: var(--sklearn-color-background);\n",
              "  text-decoration: none;\n",
              "}\n",
              "\n",
              "div.sk-estimator.fitted:hover .sk-estimator-doc-link.fitted:hover,\n",
              ".sk-estimator-doc-link.fitted:hover,\n",
              "div.sk-label-container:hover .sk-estimator-doc-link.fitted:hover,\n",
              ".sk-estimator-doc-link.fitted:hover {\n",
              "  /* fitted */\n",
              "  background-color: var(--sklearn-color-fitted-level-3);\n",
              "  color: var(--sklearn-color-background);\n",
              "  text-decoration: none;\n",
              "}\n",
              "\n",
              "/* Span, style for the box shown on hovering the info icon */\n",
              ".sk-estimator-doc-link span {\n",
              "  display: none;\n",
              "  z-index: 9999;\n",
              "  position: relative;\n",
              "  font-weight: normal;\n",
              "  right: .2ex;\n",
              "  padding: .5ex;\n",
              "  margin: .5ex;\n",
              "  width: min-content;\n",
              "  min-width: 20ex;\n",
              "  max-width: 50ex;\n",
              "  color: var(--sklearn-color-text);\n",
              "  box-shadow: 2pt 2pt 4pt #999;\n",
              "  /* unfitted */\n",
              "  background: var(--sklearn-color-unfitted-level-0);\n",
              "  border: .5pt solid var(--sklearn-color-unfitted-level-3);\n",
              "}\n",
              "\n",
              ".sk-estimator-doc-link.fitted span {\n",
              "  /* fitted */\n",
              "  background: var(--sklearn-color-fitted-level-0);\n",
              "  border: var(--sklearn-color-fitted-level-3);\n",
              "}\n",
              "\n",
              ".sk-estimator-doc-link:hover span {\n",
              "  display: block;\n",
              "}\n",
              "\n",
              "/* \"?\"-specific style due to the `<a>` HTML tag */\n",
              "\n",
              "#sk-container-id-1 a.estimator_doc_link {\n",
              "  float: right;\n",
              "  font-size: 1rem;\n",
              "  line-height: 1em;\n",
              "  font-family: monospace;\n",
              "  background-color: var(--sklearn-color-background);\n",
              "  border-radius: 1rem;\n",
              "  height: 1rem;\n",
              "  width: 1rem;\n",
              "  text-decoration: none;\n",
              "  /* unfitted */\n",
              "  color: var(--sklearn-color-unfitted-level-1);\n",
              "  border: var(--sklearn-color-unfitted-level-1) 1pt solid;\n",
              "}\n",
              "\n",
              "#sk-container-id-1 a.estimator_doc_link.fitted {\n",
              "  /* fitted */\n",
              "  border: var(--sklearn-color-fitted-level-1) 1pt solid;\n",
              "  color: var(--sklearn-color-fitted-level-1);\n",
              "}\n",
              "\n",
              "/* On hover */\n",
              "#sk-container-id-1 a.estimator_doc_link:hover {\n",
              "  /* unfitted */\n",
              "  background-color: var(--sklearn-color-unfitted-level-3);\n",
              "  color: var(--sklearn-color-background);\n",
              "  text-decoration: none;\n",
              "}\n",
              "\n",
              "#sk-container-id-1 a.estimator_doc_link.fitted:hover {\n",
              "  /* fitted */\n",
              "  background-color: var(--sklearn-color-fitted-level-3);\n",
              "}\n",
              "</style><div id=\"sk-container-id-1\" class=\"sk-top-container\"><div class=\"sk-text-repr-fallback\"><pre>LogisticRegression(C=1, n_jobs=-1)</pre><b>In a Jupyter environment, please rerun this cell to show the HTML representation or trust the notebook. <br />On GitHub, the HTML representation is unable to render, please try loading this page with nbviewer.org.</b></div><div class=\"sk-container\" hidden><div class=\"sk-item\"><div class=\"sk-estimator fitted sk-toggleable\"><input class=\"sk-toggleable__control sk-hidden--visually\" id=\"sk-estimator-id-1\" type=\"checkbox\" checked><label for=\"sk-estimator-id-1\" class=\"sk-toggleable__label fitted sk-toggleable__label-arrow fitted\">&nbsp;&nbsp;LogisticRegression<a class=\"sk-estimator-doc-link fitted\" rel=\"noreferrer\" target=\"_blank\" href=\"https://scikit-learn.org/1.4/modules/generated/sklearn.linear_model.LogisticRegression.html\">?<span>Documentation for LogisticRegression</span></a><span class=\"sk-estimator-doc-link fitted\">i<span>Fitted</span></span></label><div class=\"sk-toggleable__content fitted\"><pre>LogisticRegression(C=1, n_jobs=-1)</pre></div> </div></div></div></div>"
            ],
            "text/plain": [
              "LogisticRegression(C=1, n_jobs=-1)"
            ]
          },
          "execution_count": 26,
          "metadata": {},
          "output_type": "execute_result"
        }
      ],
      "source": [
        "logreg = LogisticRegression(n_jobs=-1, C=1)\n",
        "logreg.fit(X_train, y_train)"
      ]
    },
    {
      "cell_type": "code",
      "execution_count": null,
      "metadata": {
        "execution": {
          "iopub.execute_input": "2021-09-08T06:16:47.418980Z",
          "iopub.status.busy": "2021-09-08T06:16:47.418351Z",
          "iopub.status.idle": "2021-09-08T06:16:48.565401Z",
          "shell.execute_reply": "2021-09-08T06:16:48.564834Z"
        },
        "papermill": {
          "duration": 1.194642,
          "end_time": "2021-09-08T06:16:48.565545",
          "exception": false,
          "start_time": "2021-09-08T06:16:47.370903",
          "status": "completed"
        },
        "tags": [],
        "id": "t42PPFVZEjbC"
      },
      "outputs": [],
      "source": [
        "y_valid, X_valid = vec_for_learning(vectorize, valid_tagged)\n",
        "\n",
        "abvs = train[[\"LABEL\", \"ABV\"]].drop_duplicates()\n",
        "abvs_dict = dict(zip(abvs.LABEL, abvs.ABV))\n",
        "\n",
        "\n",
        "y_pred_valid = abbrev_predict(logreg, X_valid, valid.ABV, abvs_dict)"
      ]
    },
    {
      "cell_type": "code",
      "execution_count": null,
      "metadata": {
        "execution": {
          "iopub.execute_input": "2021-09-08T06:16:48.653923Z",
          "iopub.status.busy": "2021-09-08T06:16:48.653276Z",
          "iopub.status.idle": "2021-09-08T06:16:48.670898Z",
          "shell.execute_reply": "2021-09-08T06:16:48.670255Z"
        },
        "papermill": {
          "duration": 0.064572,
          "end_time": "2021-09-08T06:16:48.671043",
          "exception": false,
          "start_time": "2021-09-08T06:16:48.606471",
          "status": "completed"
        },
        "tags": [],
        "id": "KYZVrHsKEjbC"
      },
      "outputs": [],
      "source": [
        "valid[\"Prediction\"] = y_pred_valid\n",
        "valid[\"Target\"] = y_valid\n",
        "valid.to_csv(\"Logistic_Regression_Results.csv\")"
      ]
    },
    {
      "cell_type": "code",
      "execution_count": null,
      "metadata": {
        "execution": {
          "iopub.execute_input": "2021-09-08T06:16:48.760648Z",
          "iopub.status.busy": "2021-09-08T06:16:48.758206Z",
          "iopub.status.idle": "2021-09-08T06:16:48.770141Z",
          "shell.execute_reply": "2021-09-08T06:16:48.769521Z"
        },
        "papermill": {
          "duration": 0.058216,
          "end_time": "2021-09-08T06:16:48.770280",
          "exception": false,
          "start_time": "2021-09-08T06:16:48.712064",
          "status": "completed"
        },
        "tags": [],
        "id": "OZZ82y51EjbC",
        "outputId": "2438e607-07e4-4595-9984-eb48f7e5cee7"
      },
      "outputs": [
        {
          "name": "stdout",
          "output_type": "stream",
          "text": [
            "Validation Accuracy: 1.0\n",
            "Validation F1-Score: 1.0\n"
          ]
        }
      ],
      "source": [
        "print('Validation Accuracy:', accuracy_score(y_valid, y_pred_valid))\n",
        "print('Validation F1-Score:', f1_score(y_valid, y_pred_valid, average='weighted'))"
      ]
    },
    {
      "cell_type": "code",
      "execution_count": null,
      "metadata": {
        "execution": {
          "iopub.execute_input": "2021-09-08T06:16:48.942879Z",
          "iopub.status.busy": "2021-09-08T06:16:48.942263Z",
          "iopub.status.idle": "2021-09-08T06:16:50.216348Z",
          "shell.execute_reply": "2021-09-08T06:16:50.215658Z"
        },
        "papermill": {
          "duration": 1.32306,
          "end_time": "2021-09-08T06:16:50.216494",
          "exception": false,
          "start_time": "2021-09-08T06:16:48.893434",
          "status": "completed"
        },
        "tags": [],
        "id": "iiBGWeeIEjbC"
      },
      "outputs": [],
      "source": [
        "y_test, X_test = vec_for_learning(vectorize, test_tagged)\n",
        "y_pred_test = logreg.predict(X_test)"
      ]
    },
    {
      "cell_type": "markdown",
      "metadata": {
        "papermill": {
          "duration": 0.040839,
          "end_time": "2021-09-08T06:16:50.298733",
          "exception": false,
          "start_time": "2021-09-08T06:16:50.257894",
          "status": "completed"
        },
        "tags": [],
        "id": "TsXnKYtvEjbC"
      },
      "source": [
        "### Lets calculate some Performance Metrics on the Test predictions."
      ]
    },
    {
      "cell_type": "code",
      "execution_count": null,
      "metadata": {
        "execution": {
          "iopub.execute_input": "2021-09-08T06:16:50.387253Z",
          "iopub.status.busy": "2021-09-08T06:16:50.386271Z",
          "iopub.status.idle": "2021-09-08T06:16:50.394401Z",
          "shell.execute_reply": "2021-09-08T06:16:50.394887Z"
        },
        "papermill": {
          "duration": 0.055379,
          "end_time": "2021-09-08T06:16:50.395059",
          "exception": false,
          "start_time": "2021-09-08T06:16:50.339680",
          "status": "completed"
        },
        "tags": [],
        "id": "jBWN9aUKEjbC"
      },
      "outputs": [],
      "source": [
        "accuracy = accuracy_score(y_test, y_pred_test)\n",
        "f1_scr = f1_score(y_test, y_pred_test, average='weighted')\n",
        "print('Test Accuracy:', accuracy)\n",
        "print('Test F1-Score:', f1_scr)"
      ]
    },
    {
      "cell_type": "markdown",
      "metadata": {
        "papermill": {
          "duration": 0.040562,
          "end_time": "2021-09-08T06:16:50.621853",
          "exception": false,
          "start_time": "2021-09-08T06:16:50.581291",
          "status": "completed"
        },
        "tags": [],
        "id": "102OATWTEjbD"
      },
      "source": [
        "## Model# 2: SVM"
      ]
    },
    {
      "cell_type": "markdown",
      "metadata": {
        "papermill": {
          "duration": 0.040266,
          "end_time": "2021-09-08T06:16:50.703046",
          "exception": false,
          "start_time": "2021-09-08T06:16:50.662780",
          "status": "completed"
        },
        "tags": [],
        "id": "MiXpcmjLEjbD"
      },
      "source": [
        "### Lets perform a Grid Search to get the best possible combination of Hyperparameters for SVM's"
      ]
    },
    {
      "cell_type": "code",
      "execution_count": null,
      "metadata": {
        "execution": {
          "iopub.execute_input": "2021-09-08T06:16:50.788322Z",
          "iopub.status.busy": "2021-09-08T06:16:50.787739Z",
          "iopub.status.idle": "2021-09-08T06:16:50.790524Z",
          "shell.execute_reply": "2021-09-08T06:16:50.790031Z"
        },
        "papermill": {
          "duration": 0.047082,
          "end_time": "2021-09-08T06:16:50.790658",
          "exception": false,
          "start_time": "2021-09-08T06:16:50.743576",
          "status": "completed"
        },
        "tags": [],
        "id": "dGWQJrKDEjbD"
      },
      "outputs": [],
      "source": [
        "param_grid = {'C': [0.001, 0.01, 0.1, 1, 10, 100],'gamma': [1, 0.1, 0.01, 0.001, 0.0001], 'kernel': ['rbf']}\n",
        "grid_svm = GridSearchCV(SVC(), param_grid)"
      ]
    },
    {
      "cell_type": "code",
      "execution_count": null,
      "metadata": {
        "execution": {
          "iopub.execute_input": "2021-09-08T06:16:50.875218Z",
          "iopub.status.busy": "2021-09-08T06:16:50.874674Z",
          "iopub.status.idle": "2021-09-08T06:16:50.878672Z",
          "shell.execute_reply": "2021-09-08T06:16:50.879166Z"
        },
        "papermill": {
          "duration": 0.047861,
          "end_time": "2021-09-08T06:16:50.879340",
          "exception": false,
          "start_time": "2021-09-08T06:16:50.831479",
          "status": "completed"
        },
        "tags": [],
        "id": "wzG5CgPgEjbD"
      },
      "outputs": [],
      "source": [
        "grid_svm.fit(X_train, y_train)"
      ]
    },
    {
      "cell_type": "code",
      "execution_count": null,
      "metadata": {
        "execution": {
          "iopub.execute_input": "2021-09-08T06:16:50.965934Z",
          "iopub.status.busy": "2021-09-08T06:16:50.965273Z",
          "iopub.status.idle": "2021-09-08T06:16:50.967482Z",
          "shell.execute_reply": "2021-09-08T06:16:50.967894Z"
        },
        "papermill": {
          "duration": 0.047588,
          "end_time": "2021-09-08T06:16:50.968069",
          "exception": false,
          "start_time": "2021-09-08T06:16:50.920481",
          "status": "completed"
        },
        "tags": [],
        "id": "wTnlYmO2EjbD"
      },
      "outputs": [],
      "source": [
        "grid_svm.best_params_"
      ]
    },
    {
      "cell_type": "code",
      "execution_count": null,
      "metadata": {
        "execution": {
          "iopub.execute_input": "2021-09-08T06:16:51.054895Z",
          "iopub.status.busy": "2021-09-08T06:16:51.054317Z",
          "iopub.status.idle": "2021-09-08T06:16:51.057063Z",
          "shell.execute_reply": "2021-09-08T06:16:51.057491Z"
        },
        "papermill": {
          "duration": 0.048119,
          "end_time": "2021-09-08T06:16:51.057658",
          "exception": false,
          "start_time": "2021-09-08T06:16:51.009539",
          "status": "completed"
        },
        "tags": [],
        "id": "NrZpNEG8EjbD"
      },
      "outputs": [],
      "source": [
        "grid_svm.best_score_"
      ]
    },
    {
      "cell_type": "markdown",
      "metadata": {
        "papermill": {
          "duration": 0.04096,
          "end_time": "2021-09-08T06:16:51.140316",
          "exception": false,
          "start_time": "2021-09-08T06:16:51.099356",
          "status": "completed"
        },
        "tags": [],
        "id": "FMgJi9xZEjbD"
      },
      "source": [
        "### Apply the best parameters to SVC and train the model"
      ]
    },
    {
      "cell_type": "code",
      "execution_count": null,
      "metadata": {
        "execution": {
          "iopub.execute_input": "2021-09-08T06:16:51.228226Z",
          "iopub.status.busy": "2021-09-08T06:16:51.227607Z",
          "iopub.status.idle": "2021-09-08T06:20:29.348893Z",
          "shell.execute_reply": "2021-09-08T06:20:29.348103Z"
        },
        "papermill": {
          "duration": 218.1666,
          "end_time": "2021-09-08T06:20:29.349115",
          "exception": false,
          "start_time": "2021-09-08T06:16:51.182515",
          "status": "completed"
        },
        "tags": [],
        "id": "gN36sWnrEjbD",
        "outputId": "69288cd4-b2ed-4628-9344-81bb7b08ab17"
      },
      "outputs": [
        {
          "data": {
            "text/html": [
              "<style>#sk-container-id-2 {\n",
              "  /* Definition of color scheme common for light and dark mode */\n",
              "  --sklearn-color-text: black;\n",
              "  --sklearn-color-line: gray;\n",
              "  /* Definition of color scheme for unfitted estimators */\n",
              "  --sklearn-color-unfitted-level-0: #fff5e6;\n",
              "  --sklearn-color-unfitted-level-1: #f6e4d2;\n",
              "  --sklearn-color-unfitted-level-2: #ffe0b3;\n",
              "  --sklearn-color-unfitted-level-3: chocolate;\n",
              "  /* Definition of color scheme for fitted estimators */\n",
              "  --sklearn-color-fitted-level-0: #f0f8ff;\n",
              "  --sklearn-color-fitted-level-1: #d4ebff;\n",
              "  --sklearn-color-fitted-level-2: #b3dbfd;\n",
              "  --sklearn-color-fitted-level-3: cornflowerblue;\n",
              "\n",
              "  /* Specific color for light theme */\n",
              "  --sklearn-color-text-on-default-background: var(--sg-text-color, var(--theme-code-foreground, var(--jp-content-font-color1, black)));\n",
              "  --sklearn-color-background: var(--sg-background-color, var(--theme-background, var(--jp-layout-color0, white)));\n",
              "  --sklearn-color-border-box: var(--sg-text-color, var(--theme-code-foreground, var(--jp-content-font-color1, black)));\n",
              "  --sklearn-color-icon: #696969;\n",
              "\n",
              "  @media (prefers-color-scheme: dark) {\n",
              "    /* Redefinition of color scheme for dark theme */\n",
              "    --sklearn-color-text-on-default-background: var(--sg-text-color, var(--theme-code-foreground, var(--jp-content-font-color1, white)));\n",
              "    --sklearn-color-background: var(--sg-background-color, var(--theme-background, var(--jp-layout-color0, #111)));\n",
              "    --sklearn-color-border-box: var(--sg-text-color, var(--theme-code-foreground, var(--jp-content-font-color1, white)));\n",
              "    --sklearn-color-icon: #878787;\n",
              "  }\n",
              "}\n",
              "\n",
              "#sk-container-id-2 {\n",
              "  color: var(--sklearn-color-text);\n",
              "}\n",
              "\n",
              "#sk-container-id-2 pre {\n",
              "  padding: 0;\n",
              "}\n",
              "\n",
              "#sk-container-id-2 input.sk-hidden--visually {\n",
              "  border: 0;\n",
              "  clip: rect(1px 1px 1px 1px);\n",
              "  clip: rect(1px, 1px, 1px, 1px);\n",
              "  height: 1px;\n",
              "  margin: -1px;\n",
              "  overflow: hidden;\n",
              "  padding: 0;\n",
              "  position: absolute;\n",
              "  width: 1px;\n",
              "}\n",
              "\n",
              "#sk-container-id-2 div.sk-dashed-wrapped {\n",
              "  border: 1px dashed var(--sklearn-color-line);\n",
              "  margin: 0 0.4em 0.5em 0.4em;\n",
              "  box-sizing: border-box;\n",
              "  padding-bottom: 0.4em;\n",
              "  background-color: var(--sklearn-color-background);\n",
              "}\n",
              "\n",
              "#sk-container-id-2 div.sk-container {\n",
              "  /* jupyter's `normalize.less` sets `[hidden] { display: none; }`\n",
              "     but bootstrap.min.css set `[hidden] { display: none !important; }`\n",
              "     so we also need the `!important` here to be able to override the\n",
              "     default hidden behavior on the sphinx rendered scikit-learn.org.\n",
              "     See: https://github.com/scikit-learn/scikit-learn/issues/21755 */\n",
              "  display: inline-block !important;\n",
              "  position: relative;\n",
              "}\n",
              "\n",
              "#sk-container-id-2 div.sk-text-repr-fallback {\n",
              "  display: none;\n",
              "}\n",
              "\n",
              "div.sk-parallel-item,\n",
              "div.sk-serial,\n",
              "div.sk-item {\n",
              "  /* draw centered vertical line to link estimators */\n",
              "  background-image: linear-gradient(var(--sklearn-color-text-on-default-background), var(--sklearn-color-text-on-default-background));\n",
              "  background-size: 2px 100%;\n",
              "  background-repeat: no-repeat;\n",
              "  background-position: center center;\n",
              "}\n",
              "\n",
              "/* Parallel-specific style estimator block */\n",
              "\n",
              "#sk-container-id-2 div.sk-parallel-item::after {\n",
              "  content: \"\";\n",
              "  width: 100%;\n",
              "  border-bottom: 2px solid var(--sklearn-color-text-on-default-background);\n",
              "  flex-grow: 1;\n",
              "}\n",
              "\n",
              "#sk-container-id-2 div.sk-parallel {\n",
              "  display: flex;\n",
              "  align-items: stretch;\n",
              "  justify-content: center;\n",
              "  background-color: var(--sklearn-color-background);\n",
              "  position: relative;\n",
              "}\n",
              "\n",
              "#sk-container-id-2 div.sk-parallel-item {\n",
              "  display: flex;\n",
              "  flex-direction: column;\n",
              "}\n",
              "\n",
              "#sk-container-id-2 div.sk-parallel-item:first-child::after {\n",
              "  align-self: flex-end;\n",
              "  width: 50%;\n",
              "}\n",
              "\n",
              "#sk-container-id-2 div.sk-parallel-item:last-child::after {\n",
              "  align-self: flex-start;\n",
              "  width: 50%;\n",
              "}\n",
              "\n",
              "#sk-container-id-2 div.sk-parallel-item:only-child::after {\n",
              "  width: 0;\n",
              "}\n",
              "\n",
              "/* Serial-specific style estimator block */\n",
              "\n",
              "#sk-container-id-2 div.sk-serial {\n",
              "  display: flex;\n",
              "  flex-direction: column;\n",
              "  align-items: center;\n",
              "  background-color: var(--sklearn-color-background);\n",
              "  padding-right: 1em;\n",
              "  padding-left: 1em;\n",
              "}\n",
              "\n",
              "\n",
              "/* Toggleable style: style used for estimator/Pipeline/ColumnTransformer box that is\n",
              "clickable and can be expanded/collapsed.\n",
              "- Pipeline and ColumnTransformer use this feature and define the default style\n",
              "- Estimators will overwrite some part of the style using the `sk-estimator` class\n",
              "*/\n",
              "\n",
              "/* Pipeline and ColumnTransformer style (default) */\n",
              "\n",
              "#sk-container-id-2 div.sk-toggleable {\n",
              "  /* Default theme specific background. It is overwritten whether we have a\n",
              "  specific estimator or a Pipeline/ColumnTransformer */\n",
              "  background-color: var(--sklearn-color-background);\n",
              "}\n",
              "\n",
              "/* Toggleable label */\n",
              "#sk-container-id-2 label.sk-toggleable__label {\n",
              "  cursor: pointer;\n",
              "  display: block;\n",
              "  width: 100%;\n",
              "  margin-bottom: 0;\n",
              "  padding: 0.5em;\n",
              "  box-sizing: border-box;\n",
              "  text-align: center;\n",
              "}\n",
              "\n",
              "#sk-container-id-2 label.sk-toggleable__label-arrow:before {\n",
              "  /* Arrow on the left of the label */\n",
              "  content: \"▸\";\n",
              "  float: left;\n",
              "  margin-right: 0.25em;\n",
              "  color: var(--sklearn-color-icon);\n",
              "}\n",
              "\n",
              "#sk-container-id-2 label.sk-toggleable__label-arrow:hover:before {\n",
              "  color: var(--sklearn-color-text);\n",
              "}\n",
              "\n",
              "/* Toggleable content - dropdown */\n",
              "\n",
              "#sk-container-id-2 div.sk-toggleable__content {\n",
              "  max-height: 0;\n",
              "  max-width: 0;\n",
              "  overflow: hidden;\n",
              "  text-align: left;\n",
              "  /* unfitted */\n",
              "  background-color: var(--sklearn-color-unfitted-level-0);\n",
              "}\n",
              "\n",
              "#sk-container-id-2 div.sk-toggleable__content.fitted {\n",
              "  /* fitted */\n",
              "  background-color: var(--sklearn-color-fitted-level-0);\n",
              "}\n",
              "\n",
              "#sk-container-id-2 div.sk-toggleable__content pre {\n",
              "  margin: 0.2em;\n",
              "  border-radius: 0.25em;\n",
              "  color: var(--sklearn-color-text);\n",
              "  /* unfitted */\n",
              "  background-color: var(--sklearn-color-unfitted-level-0);\n",
              "}\n",
              "\n",
              "#sk-container-id-2 div.sk-toggleable__content.fitted pre {\n",
              "  /* unfitted */\n",
              "  background-color: var(--sklearn-color-fitted-level-0);\n",
              "}\n",
              "\n",
              "#sk-container-id-2 input.sk-toggleable__control:checked~div.sk-toggleable__content {\n",
              "  /* Expand drop-down */\n",
              "  max-height: 200px;\n",
              "  max-width: 100%;\n",
              "  overflow: auto;\n",
              "}\n",
              "\n",
              "#sk-container-id-2 input.sk-toggleable__control:checked~label.sk-toggleable__label-arrow:before {\n",
              "  content: \"▾\";\n",
              "}\n",
              "\n",
              "/* Pipeline/ColumnTransformer-specific style */\n",
              "\n",
              "#sk-container-id-2 div.sk-label input.sk-toggleable__control:checked~label.sk-toggleable__label {\n",
              "  color: var(--sklearn-color-text);\n",
              "  background-color: var(--sklearn-color-unfitted-level-2);\n",
              "}\n",
              "\n",
              "#sk-container-id-2 div.sk-label.fitted input.sk-toggleable__control:checked~label.sk-toggleable__label {\n",
              "  background-color: var(--sklearn-color-fitted-level-2);\n",
              "}\n",
              "\n",
              "/* Estimator-specific style */\n",
              "\n",
              "/* Colorize estimator box */\n",
              "#sk-container-id-2 div.sk-estimator input.sk-toggleable__control:checked~label.sk-toggleable__label {\n",
              "  /* unfitted */\n",
              "  background-color: var(--sklearn-color-unfitted-level-2);\n",
              "}\n",
              "\n",
              "#sk-container-id-2 div.sk-estimator.fitted input.sk-toggleable__control:checked~label.sk-toggleable__label {\n",
              "  /* fitted */\n",
              "  background-color: var(--sklearn-color-fitted-level-2);\n",
              "}\n",
              "\n",
              "#sk-container-id-2 div.sk-label label.sk-toggleable__label,\n",
              "#sk-container-id-2 div.sk-label label {\n",
              "  /* The background is the default theme color */\n",
              "  color: var(--sklearn-color-text-on-default-background);\n",
              "}\n",
              "\n",
              "/* On hover, darken the color of the background */\n",
              "#sk-container-id-2 div.sk-label:hover label.sk-toggleable__label {\n",
              "  color: var(--sklearn-color-text);\n",
              "  background-color: var(--sklearn-color-unfitted-level-2);\n",
              "}\n",
              "\n",
              "/* Label box, darken color on hover, fitted */\n",
              "#sk-container-id-2 div.sk-label.fitted:hover label.sk-toggleable__label.fitted {\n",
              "  color: var(--sklearn-color-text);\n",
              "  background-color: var(--sklearn-color-fitted-level-2);\n",
              "}\n",
              "\n",
              "/* Estimator label */\n",
              "\n",
              "#sk-container-id-2 div.sk-label label {\n",
              "  font-family: monospace;\n",
              "  font-weight: bold;\n",
              "  display: inline-block;\n",
              "  line-height: 1.2em;\n",
              "}\n",
              "\n",
              "#sk-container-id-2 div.sk-label-container {\n",
              "  text-align: center;\n",
              "}\n",
              "\n",
              "/* Estimator-specific */\n",
              "#sk-container-id-2 div.sk-estimator {\n",
              "  font-family: monospace;\n",
              "  border: 1px dotted var(--sklearn-color-border-box);\n",
              "  border-radius: 0.25em;\n",
              "  box-sizing: border-box;\n",
              "  margin-bottom: 0.5em;\n",
              "  /* unfitted */\n",
              "  background-color: var(--sklearn-color-unfitted-level-0);\n",
              "}\n",
              "\n",
              "#sk-container-id-2 div.sk-estimator.fitted {\n",
              "  /* fitted */\n",
              "  background-color: var(--sklearn-color-fitted-level-0);\n",
              "}\n",
              "\n",
              "/* on hover */\n",
              "#sk-container-id-2 div.sk-estimator:hover {\n",
              "  /* unfitted */\n",
              "  background-color: var(--sklearn-color-unfitted-level-2);\n",
              "}\n",
              "\n",
              "#sk-container-id-2 div.sk-estimator.fitted:hover {\n",
              "  /* fitted */\n",
              "  background-color: var(--sklearn-color-fitted-level-2);\n",
              "}\n",
              "\n",
              "/* Specification for estimator info (e.g. \"i\" and \"?\") */\n",
              "\n",
              "/* Common style for \"i\" and \"?\" */\n",
              "\n",
              ".sk-estimator-doc-link,\n",
              "a:link.sk-estimator-doc-link,\n",
              "a:visited.sk-estimator-doc-link {\n",
              "  float: right;\n",
              "  font-size: smaller;\n",
              "  line-height: 1em;\n",
              "  font-family: monospace;\n",
              "  background-color: var(--sklearn-color-background);\n",
              "  border-radius: 1em;\n",
              "  height: 1em;\n",
              "  width: 1em;\n",
              "  text-decoration: none !important;\n",
              "  margin-left: 1ex;\n",
              "  /* unfitted */\n",
              "  border: var(--sklearn-color-unfitted-level-1) 1pt solid;\n",
              "  color: var(--sklearn-color-unfitted-level-1);\n",
              "}\n",
              "\n",
              ".sk-estimator-doc-link.fitted,\n",
              "a:link.sk-estimator-doc-link.fitted,\n",
              "a:visited.sk-estimator-doc-link.fitted {\n",
              "  /* fitted */\n",
              "  border: var(--sklearn-color-fitted-level-1) 1pt solid;\n",
              "  color: var(--sklearn-color-fitted-level-1);\n",
              "}\n",
              "\n",
              "/* On hover */\n",
              "div.sk-estimator:hover .sk-estimator-doc-link:hover,\n",
              ".sk-estimator-doc-link:hover,\n",
              "div.sk-label-container:hover .sk-estimator-doc-link:hover,\n",
              ".sk-estimator-doc-link:hover {\n",
              "  /* unfitted */\n",
              "  background-color: var(--sklearn-color-unfitted-level-3);\n",
              "  color: var(--sklearn-color-background);\n",
              "  text-decoration: none;\n",
              "}\n",
              "\n",
              "div.sk-estimator.fitted:hover .sk-estimator-doc-link.fitted:hover,\n",
              ".sk-estimator-doc-link.fitted:hover,\n",
              "div.sk-label-container:hover .sk-estimator-doc-link.fitted:hover,\n",
              ".sk-estimator-doc-link.fitted:hover {\n",
              "  /* fitted */\n",
              "  background-color: var(--sklearn-color-fitted-level-3);\n",
              "  color: var(--sklearn-color-background);\n",
              "  text-decoration: none;\n",
              "}\n",
              "\n",
              "/* Span, style for the box shown on hovering the info icon */\n",
              ".sk-estimator-doc-link span {\n",
              "  display: none;\n",
              "  z-index: 9999;\n",
              "  position: relative;\n",
              "  font-weight: normal;\n",
              "  right: .2ex;\n",
              "  padding: .5ex;\n",
              "  margin: .5ex;\n",
              "  width: min-content;\n",
              "  min-width: 20ex;\n",
              "  max-width: 50ex;\n",
              "  color: var(--sklearn-color-text);\n",
              "  box-shadow: 2pt 2pt 4pt #999;\n",
              "  /* unfitted */\n",
              "  background: var(--sklearn-color-unfitted-level-0);\n",
              "  border: .5pt solid var(--sklearn-color-unfitted-level-3);\n",
              "}\n",
              "\n",
              ".sk-estimator-doc-link.fitted span {\n",
              "  /* fitted */\n",
              "  background: var(--sklearn-color-fitted-level-0);\n",
              "  border: var(--sklearn-color-fitted-level-3);\n",
              "}\n",
              "\n",
              ".sk-estimator-doc-link:hover span {\n",
              "  display: block;\n",
              "}\n",
              "\n",
              "/* \"?\"-specific style due to the `<a>` HTML tag */\n",
              "\n",
              "#sk-container-id-2 a.estimator_doc_link {\n",
              "  float: right;\n",
              "  font-size: 1rem;\n",
              "  line-height: 1em;\n",
              "  font-family: monospace;\n",
              "  background-color: var(--sklearn-color-background);\n",
              "  border-radius: 1rem;\n",
              "  height: 1rem;\n",
              "  width: 1rem;\n",
              "  text-decoration: none;\n",
              "  /* unfitted */\n",
              "  color: var(--sklearn-color-unfitted-level-1);\n",
              "  border: var(--sklearn-color-unfitted-level-1) 1pt solid;\n",
              "}\n",
              "\n",
              "#sk-container-id-2 a.estimator_doc_link.fitted {\n",
              "  /* fitted */\n",
              "  border: var(--sklearn-color-fitted-level-1) 1pt solid;\n",
              "  color: var(--sklearn-color-fitted-level-1);\n",
              "}\n",
              "\n",
              "/* On hover */\n",
              "#sk-container-id-2 a.estimator_doc_link:hover {\n",
              "  /* unfitted */\n",
              "  background-color: var(--sklearn-color-unfitted-level-3);\n",
              "  color: var(--sklearn-color-background);\n",
              "  text-decoration: none;\n",
              "}\n",
              "\n",
              "#sk-container-id-2 a.estimator_doc_link.fitted:hover {\n",
              "  /* fitted */\n",
              "  background-color: var(--sklearn-color-fitted-level-3);\n",
              "}\n",
              "</style><div id=\"sk-container-id-2\" class=\"sk-top-container\"><div class=\"sk-text-repr-fallback\"><pre>SVC(C=10, gamma=0.01, probability=True)</pre><b>In a Jupyter environment, please rerun this cell to show the HTML representation or trust the notebook. <br />On GitHub, the HTML representation is unable to render, please try loading this page with nbviewer.org.</b></div><div class=\"sk-container\" hidden><div class=\"sk-item\"><div class=\"sk-estimator fitted sk-toggleable\"><input class=\"sk-toggleable__control sk-hidden--visually\" id=\"sk-estimator-id-2\" type=\"checkbox\" checked><label for=\"sk-estimator-id-2\" class=\"sk-toggleable__label fitted sk-toggleable__label-arrow fitted\">&nbsp;&nbsp;SVC<a class=\"sk-estimator-doc-link fitted\" rel=\"noreferrer\" target=\"_blank\" href=\"https://scikit-learn.org/1.4/modules/generated/sklearn.svm.SVC.html\">?<span>Documentation for SVC</span></a><span class=\"sk-estimator-doc-link fitted\">i<span>Fitted</span></span></label><div class=\"sk-toggleable__content fitted\"><pre>SVC(C=10, gamma=0.01, probability=True)</pre></div> </div></div></div></div>"
            ],
            "text/plain": [
              "SVC(C=10, gamma=0.01, probability=True)"
            ]
          },
          "execution_count": 40,
          "metadata": {},
          "output_type": "execute_result"
        }
      ],
      "source": [
        "svcModel = SVC(C=10, gamma=0.01, kernel='rbf', probability=True)\n",
        "svcModel.fit(X_train, y_train)"
      ]
    },
    {
      "cell_type": "code",
      "execution_count": null,
      "metadata": {
        "execution": {
          "iopub.execute_input": "2021-09-08T06:20:29.441691Z",
          "iopub.status.busy": "2021-09-08T06:20:29.441059Z",
          "iopub.status.idle": "2021-09-08T06:20:34.299161Z",
          "shell.execute_reply": "2021-09-08T06:20:34.298500Z"
        },
        "papermill": {
          "duration": 4.90676,
          "end_time": "2021-09-08T06:20:34.299310",
          "exception": false,
          "start_time": "2021-09-08T06:20:29.392550",
          "status": "completed"
        },
        "tags": [],
        "id": "Qt8Dz7jBEjbD"
      },
      "outputs": [],
      "source": [
        "y_valid, X_valid = vec_for_learning(vectorize, valid_tagged)\n",
        "y_pred_valid = abbrev_predict(svcModel, X_valid, valid.ABV, abvs_dict)"
      ]
    },
    {
      "cell_type": "code",
      "execution_count": null,
      "metadata": {
        "execution": {
          "iopub.execute_input": "2021-09-08T06:20:34.388147Z",
          "iopub.status.busy": "2021-09-08T06:20:34.387194Z",
          "iopub.status.idle": "2021-09-08T06:20:34.396477Z",
          "shell.execute_reply": "2021-09-08T06:20:34.395841Z"
        },
        "papermill": {
          "duration": 0.05532,
          "end_time": "2021-09-08T06:20:34.396625",
          "exception": false,
          "start_time": "2021-09-08T06:20:34.341305",
          "status": "completed"
        },
        "tags": [],
        "id": "ocX1UUu1EjbD",
        "outputId": "0dfd68ae-423f-460c-af13-13636cfb5c91"
      },
      "outputs": [
        {
          "name": "stdout",
          "output_type": "stream",
          "text": [
            "SVM Validation Accuracy: 1.0\n",
            "SVM Validation F1-Score: 1.0\n"
          ]
        }
      ],
      "source": [
        "print('SVM Validation Accuracy:', accuracy_score(y_valid, y_pred_valid))\n",
        "print('SVM Validation F1-Score:', f1_score(y_valid, y_pred_valid, average='weighted'))"
      ]
    },
    {
      "cell_type": "code",
      "execution_count": null,
      "metadata": {
        "execution": {
          "iopub.execute_input": "2021-09-08T06:20:34.567139Z",
          "iopub.status.busy": "2021-09-08T06:20:34.566546Z",
          "iopub.status.idle": "2021-09-08T06:20:39.600908Z",
          "shell.execute_reply": "2021-09-08T06:20:39.601401Z"
        },
        "papermill": {
          "duration": 5.078959,
          "end_time": "2021-09-08T06:20:39.601571",
          "exception": false,
          "start_time": "2021-09-08T06:20:34.522612",
          "status": "completed"
        },
        "tags": [],
        "id": "MQCyBBCLEjbE"
      },
      "outputs": [],
      "source": [
        "y_test, X_test = vec_for_learning(vectorize, test_tagged)\n",
        "y_pred_test = svcModel.predict(X_test)"
      ]
    },
    {
      "cell_type": "markdown",
      "metadata": {
        "papermill": {
          "duration": 0.041314,
          "end_time": "2021-09-08T06:20:39.685310",
          "exception": false,
          "start_time": "2021-09-08T06:20:39.643996",
          "status": "completed"
        },
        "tags": [],
        "id": "qRcPDstDEjbE"
      },
      "source": [
        "### Lets calculate some Performance Metrics on the Test predictions."
      ]
    },
    {
      "cell_type": "code",
      "execution_count": null,
      "metadata": {
        "execution": {
          "iopub.execute_input": "2021-09-08T06:20:39.771628Z",
          "iopub.status.busy": "2021-09-08T06:20:39.771049Z",
          "iopub.status.idle": "2021-09-08T06:20:39.780439Z",
          "shell.execute_reply": "2021-09-08T06:20:39.779949Z"
        },
        "papermill": {
          "duration": 0.053717,
          "end_time": "2021-09-08T06:20:39.780575",
          "exception": false,
          "start_time": "2021-09-08T06:20:39.726858",
          "status": "completed"
        },
        "tags": [],
        "id": "m8WneeFyEjbE",
        "outputId": "1719ab7b-88e5-4be6-f9d6-25e5a92b0439"
      },
      "outputs": [
        {
          "name": "stdout",
          "output_type": "stream",
          "text": [
            "SVM Test Accuracy: 0.6270270270270271\n",
            "SVM Test F1-Score: 0.6343832143832143\n"
          ]
        }
      ],
      "source": [
        "accuracy = accuracy_score(y_test, y_pred_test)\n",
        "f1_scr = f1_score(y_test, y_pred_test, average='weighted')\n",
        "print('SVM Test Accuracy:', accuracy)\n",
        "print('SVM Test F1-Score:', f1_scr)"
      ]
    },
    {
      "cell_type": "code",
      "execution_count": null,
      "metadata": {
        "execution": {
          "iopub.execute_input": "2021-09-08T06:20:39.955940Z",
          "iopub.status.busy": "2021-09-08T06:20:39.954991Z",
          "iopub.status.idle": "2021-09-08T06:20:39.966777Z",
          "shell.execute_reply": "2021-09-08T06:20:39.967222Z"
        },
        "papermill": {
          "duration": 0.060288,
          "end_time": "2021-09-08T06:20:39.967396",
          "exception": false,
          "start_time": "2021-09-08T06:20:39.907108",
          "status": "completed"
        },
        "tags": [],
        "id": "7LM1S76dEjbE"
      },
      "outputs": [],
      "source": [
        "valid[\"Prediction\"] = y_pred_valid\n",
        "valid[\"Target\"] = y_valid\n",
        "valid.to_csv(\"SVM_results.csv\")"
      ]
    },
    {
      "cell_type": "markdown",
      "metadata": {
        "papermill": {
          "duration": 0.042493,
          "end_time": "2021-09-08T06:20:40.051954",
          "exception": false,
          "start_time": "2021-09-08T06:20:40.009461",
          "status": "completed"
        },
        "tags": [],
        "id": "cGMQwCyREjbE"
      },
      "source": [
        "## Model# 3: XGBoost"
      ]
    },
    {
      "cell_type": "markdown",
      "metadata": {
        "papermill": {
          "duration": 0.041846,
          "end_time": "2021-09-08T06:20:40.135938",
          "exception": false,
          "start_time": "2021-09-08T06:20:40.094092",
          "status": "completed"
        },
        "tags": [],
        "id": "nvZIJK3eEjbF"
      },
      "source": [
        "### Lets create a parameter grid for XGBoost Model"
      ]
    },
    {
      "cell_type": "code",
      "execution_count": null,
      "metadata": {
        "execution": {
          "iopub.execute_input": "2021-09-08T06:20:40.226101Z",
          "iopub.status.busy": "2021-09-08T06:20:40.225541Z",
          "iopub.status.idle": "2021-09-08T06:20:40.227623Z",
          "shell.execute_reply": "2021-09-08T06:20:40.228065Z"
        },
        "papermill": {
          "duration": 0.04859,
          "end_time": "2021-09-08T06:20:40.228224",
          "exception": false,
          "start_time": "2021-09-08T06:20:40.179634",
          "status": "completed"
        },
        "tags": [],
        "id": "jMeM27CGEjbF"
      },
      "outputs": [],
      "source": [
        "param_grid = {'n_estimators':[100, 500, 1000], 'max_depth':[5, 6, 7], 'min_child_weight': [3, 5, 8]}"
      ]
    },
    {
      "cell_type": "code",
      "execution_count": null,
      "metadata": {
        "execution": {
          "iopub.execute_input": "2021-09-08T06:20:40.315279Z",
          "iopub.status.busy": "2021-09-08T06:20:40.314698Z",
          "iopub.status.idle": "2021-09-08T06:20:40.317536Z",
          "shell.execute_reply": "2021-09-08T06:20:40.317944Z"
        },
        "papermill": {
          "duration": 0.047996,
          "end_time": "2021-09-08T06:20:40.318114",
          "exception": false,
          "start_time": "2021-09-08T06:20:40.270118",
          "status": "completed"
        },
        "tags": [],
        "id": "C1FkyJoOEjbF"
      },
      "outputs": [],
      "source": [
        "unique = list(set(y_train))\n",
        "X_train = pd.DataFrame(X_train)\n",
        "y_train = np.asarray(y_train)"
      ]
    },
    {
      "cell_type": "code",
      "execution_count": null,
      "metadata": {
        "execution": {
          "iopub.execute_input": "2021-09-08T06:20:40.406193Z",
          "iopub.status.busy": "2021-09-08T06:20:40.405538Z",
          "iopub.status.idle": "2021-09-08T06:20:40.408633Z",
          "shell.execute_reply": "2021-09-08T06:20:40.409120Z"
        },
        "papermill": {
          "duration": 0.049182,
          "end_time": "2021-09-08T06:20:40.409313",
          "exception": false,
          "start_time": "2021-09-08T06:20:40.360131",
          "status": "completed"
        },
        "tags": [],
        "id": "hPQKopZjEjbF"
      },
      "outputs": [],
      "source": [
        "XGBgrid = GridSearchCV(XGBClassifier(learning_rate= 0.1, gamma= 0, objective= 'multi:softmax', num_classes= len(unique), seed= 27), param_grid)"
      ]
    },
    {
      "cell_type": "code",
      "execution_count": null,
      "metadata": {
        "execution": {
          "iopub.execute_input": "2021-09-08T06:20:40.497660Z",
          "iopub.status.busy": "2021-09-08T06:20:40.497053Z",
          "iopub.status.idle": "2021-09-08T06:20:40.501275Z",
          "shell.execute_reply": "2021-09-08T06:20:40.500775Z"
        },
        "papermill": {
          "duration": 0.049317,
          "end_time": "2021-09-08T06:20:40.501413",
          "exception": false,
          "start_time": "2021-09-08T06:20:40.452096",
          "status": "completed"
        },
        "tags": [],
        "id": "1gf5rJ2JEjbF"
      },
      "outputs": [],
      "source": [
        "XGBgrid.fit(X_train, y_train)"
      ]
    },
    {
      "cell_type": "code",
      "execution_count": null,
      "metadata": {
        "execution": {
          "iopub.execute_input": "2021-09-08T06:20:40.591732Z",
          "iopub.status.busy": "2021-09-08T06:20:40.590839Z",
          "iopub.status.idle": "2021-09-08T06:20:40.594291Z",
          "shell.execute_reply": "2021-09-08T06:20:40.593832Z"
        },
        "papermill": {
          "duration": 0.050215,
          "end_time": "2021-09-08T06:20:40.594449",
          "exception": false,
          "start_time": "2021-09-08T06:20:40.544234",
          "status": "completed"
        },
        "tags": [],
        "id": "VaWzyJHREjbF"
      },
      "outputs": [],
      "source": [
        "XGBgrid.best_params_"
      ]
    },
    {
      "cell_type": "code",
      "execution_count": null,
      "metadata": {
        "execution": {
          "iopub.execute_input": "2021-09-08T06:20:40.683081Z",
          "iopub.status.busy": "2021-09-08T06:20:40.682130Z",
          "iopub.status.idle": "2021-09-08T06:20:40.684569Z",
          "shell.execute_reply": "2021-09-08T06:20:40.685059Z"
        },
        "papermill": {
          "duration": 0.049027,
          "end_time": "2021-09-08T06:20:40.685230",
          "exception": false,
          "start_time": "2021-09-08T06:20:40.636203",
          "status": "completed"
        },
        "tags": [],
        "id": "VVXVEJ0dEjbF"
      },
      "outputs": [],
      "source": [
        "grid_svm.best_score_"
      ]
    },
    {
      "cell_type": "markdown",
      "metadata": {
        "papermill": {
          "duration": 0.042056,
          "end_time": "2021-09-08T06:20:40.769285",
          "exception": false,
          "start_time": "2021-09-08T06:20:40.727229",
          "status": "completed"
        },
        "tags": [],
        "id": "WWbLfcmbEjbG"
      },
      "source": [
        "### Train a XGBoost Classifier"
      ]
    },
    {
      "cell_type": "code",
      "execution_count": null,
      "metadata": {
        "execution": {
          "iopub.execute_input": "2021-09-08T06:20:40.857529Z",
          "iopub.status.busy": "2021-09-08T06:20:40.856588Z",
          "iopub.status.idle": "2021-09-08T06:20:40.860357Z",
          "shell.execute_reply": "2021-09-08T06:20:40.860861Z"
        },
        "papermill": {
          "duration": 0.049599,
          "end_time": "2021-09-08T06:20:40.861040",
          "exception": false,
          "start_time": "2021-09-08T06:20:40.811441",
          "status": "completed"
        },
        "tags": [],
        "id": "eRtpRPYDEjbG",
        "outputId": "2cc5b0ac-f87b-48d9-e174-69221fbe4176"
      },
      "outputs": [
        {
          "ename": "AttributeError",
          "evalue": "'bool' object has no attribute 'all'",
          "output_type": "error",
          "traceback": [
            "\u001b[1;31m---------------------------------------------------------------------------\u001b[0m",
            "\u001b[1;31mAttributeError\u001b[0m                            Traceback (most recent call last)",
            "Cell \u001b[1;32mIn[54], line 9\u001b[0m\n\u001b[0;32m      1\u001b[0m XGBModel \u001b[38;5;241m=\u001b[39m XGBClassifier(\n\u001b[0;32m      2\u001b[0m  learning_rate \u001b[38;5;241m=\u001b[39m\u001b[38;5;241m0.1\u001b[39m,\n\u001b[0;32m      3\u001b[0m  n_estimators\u001b[38;5;241m=\u001b[39m\u001b[38;5;241m1000\u001b[39m,\n\u001b[1;32m   (...)\u001b[0m\n\u001b[0;32m      7\u001b[0m  objective\u001b[38;5;241m=\u001b[39m \u001b[38;5;124m'\u001b[39m\u001b[38;5;124mmulti:softmax\u001b[39m\u001b[38;5;124m'\u001b[39m,\n\u001b[0;32m      8\u001b[0m  seed\u001b[38;5;241m=\u001b[39m\u001b[38;5;241m27\u001b[39m)   \n\u001b[1;32m----> 9\u001b[0m \u001b[43mXGBModel\u001b[49m\u001b[38;5;241;43m.\u001b[39;49m\u001b[43mfit\u001b[49m\u001b[43m(\u001b[49m\u001b[43mX_train\u001b[49m\u001b[43m,\u001b[49m\u001b[43m \u001b[49m\u001b[43my_train\u001b[49m\u001b[43m)\u001b[49m\n",
            "File \u001b[1;32mc:\\Users\\Naman Verma\\AppData\\Local\\Programs\\Python\\Python311\\Lib\\site-packages\\xgboost\\core.py:730\u001b[0m, in \u001b[0;36mrequire_keyword_args.<locals>.throw_if.<locals>.inner_f\u001b[1;34m(*args, **kwargs)\u001b[0m\n\u001b[0;32m    728\u001b[0m \u001b[38;5;28;01mfor\u001b[39;00m k, arg \u001b[38;5;129;01min\u001b[39;00m \u001b[38;5;28mzip\u001b[39m(sig\u001b[38;5;241m.\u001b[39mparameters, args):\n\u001b[0;32m    729\u001b[0m     kwargs[k] \u001b[38;5;241m=\u001b[39m arg\n\u001b[1;32m--> 730\u001b[0m \u001b[38;5;28;01mreturn\u001b[39;00m \u001b[43mfunc\u001b[49m\u001b[43m(\u001b[49m\u001b[38;5;241;43m*\u001b[39;49m\u001b[38;5;241;43m*\u001b[39;49m\u001b[43mkwargs\u001b[49m\u001b[43m)\u001b[49m\n",
            "File \u001b[1;32mc:\\Users\\Naman Verma\\AppData\\Local\\Programs\\Python\\Python311\\Lib\\site-packages\\xgboost\\sklearn.py:1469\u001b[0m, in \u001b[0;36mXGBClassifier.fit\u001b[1;34m(self, X, y, sample_weight, base_margin, eval_set, eval_metric, early_stopping_rounds, verbose, xgb_model, sample_weight_eval_set, base_margin_eval_set, feature_weights, callbacks)\u001b[0m\n\u001b[0;32m   1465\u001b[0m     \u001b[38;5;28mself\u001b[39m\u001b[38;5;241m.\u001b[39mn_classes_ \u001b[38;5;241m=\u001b[39m \u001b[38;5;28mlen\u001b[39m(classes)\n\u001b[0;32m   1466\u001b[0m     expected_classes \u001b[38;5;241m=\u001b[39m \u001b[38;5;28mself\u001b[39m\u001b[38;5;241m.\u001b[39mclasses_\n\u001b[0;32m   1467\u001b[0m \u001b[38;5;28;01mif\u001b[39;00m (\n\u001b[0;32m   1468\u001b[0m     classes\u001b[38;5;241m.\u001b[39mshape \u001b[38;5;241m!=\u001b[39m expected_classes\u001b[38;5;241m.\u001b[39mshape\n\u001b[1;32m-> 1469\u001b[0m     \u001b[38;5;129;01mor\u001b[39;00m \u001b[38;5;129;01mnot\u001b[39;00m \u001b[43m(\u001b[49m\u001b[43mclasses\u001b[49m\u001b[43m \u001b[49m\u001b[38;5;241;43m==\u001b[39;49m\u001b[43m \u001b[49m\u001b[43mexpected_classes\u001b[49m\u001b[43m)\u001b[49m\u001b[38;5;241;43m.\u001b[39;49m\u001b[43mall\u001b[49m()\n\u001b[0;32m   1470\u001b[0m ):\n\u001b[0;32m   1471\u001b[0m     \u001b[38;5;28;01mraise\u001b[39;00m \u001b[38;5;167;01mValueError\u001b[39;00m(\n\u001b[0;32m   1472\u001b[0m         \u001b[38;5;124mf\u001b[39m\u001b[38;5;124m\"\u001b[39m\u001b[38;5;124mInvalid classes inferred from unique values of `y`.  \u001b[39m\u001b[38;5;124m\"\u001b[39m\n\u001b[0;32m   1473\u001b[0m         \u001b[38;5;124mf\u001b[39m\u001b[38;5;124m\"\u001b[39m\u001b[38;5;124mExpected: \u001b[39m\u001b[38;5;132;01m{\u001b[39;00mexpected_classes\u001b[38;5;132;01m}\u001b[39;00m\u001b[38;5;124m, got \u001b[39m\u001b[38;5;132;01m{\u001b[39;00mclasses\u001b[38;5;132;01m}\u001b[39;00m\u001b[38;5;124m\"\u001b[39m\n\u001b[0;32m   1474\u001b[0m     )\n\u001b[0;32m   1476\u001b[0m params \u001b[38;5;241m=\u001b[39m \u001b[38;5;28mself\u001b[39m\u001b[38;5;241m.\u001b[39mget_xgb_params()\n",
            "\u001b[1;31mAttributeError\u001b[0m: 'bool' object has no attribute 'all'"
          ]
        }
      ],
      "source": [
        "XGBModel = XGBClassifier(\n",
        " learning_rate =0.1,\n",
        " n_estimators=1000,\n",
        " max_depth=7,\n",
        " min_child_weight=4,\n",
        " gamma=0,\n",
        " objective= 'multi:softmax',\n",
        " seed=27)\n",
        "XGBModel.fit(X_train, y_train)"
      ]
    },
    {
      "cell_type": "code",
      "execution_count": null,
      "metadata": {
        "execution": {
          "iopub.execute_input": "2021-09-08T06:20:40.949956Z",
          "iopub.status.busy": "2021-09-08T06:20:40.949029Z",
          "iopub.status.idle": "2021-09-08T06:20:40.952793Z",
          "shell.execute_reply": "2021-09-08T06:20:40.953295Z"
        },
        "papermill": {
          "duration": 0.049818,
          "end_time": "2021-09-08T06:20:40.953462",
          "exception": false,
          "start_time": "2021-09-08T06:20:40.903644",
          "status": "completed"
        },
        "tags": [],
        "id": "ZOSgCk-IEjbG"
      },
      "outputs": [],
      "source": [
        "### Apply the above Model on Validation Set\n",
        "y_valid, X_valid = vec_for_learning(vectorize, valid_tagged)\n",
        "X_valid = pd.DataFrame(X_valid)\n",
        "y_valid = np.asarray(y_valid)\n",
        "y_pred_valid = XGBModel.predict(X_valid)"
      ]
    },
    {
      "cell_type": "code",
      "execution_count": null,
      "metadata": {
        "execution": {
          "iopub.execute_input": "2021-09-08T06:20:41.041718Z",
          "iopub.status.busy": "2021-09-08T06:20:41.040818Z",
          "iopub.status.idle": "2021-09-08T06:20:41.044353Z",
          "shell.execute_reply": "2021-09-08T06:20:41.044912Z"
        },
        "papermill": {
          "duration": 0.049143,
          "end_time": "2021-09-08T06:20:41.045082",
          "exception": false,
          "start_time": "2021-09-08T06:20:40.995939",
          "status": "completed"
        },
        "tags": [],
        "id": "-blY18uyEjbG"
      },
      "outputs": [],
      "source": [
        "print('XGBoost Validation Accuracy:', accuracy_score(y_valid, y_pred_valid))\n",
        "print('XGBoost Validation F1-Score:', f1_score(y_valid, y_pred_valid, average='weighted'))"
      ]
    },
    {
      "cell_type": "code",
      "execution_count": null,
      "metadata": {
        "execution": {
          "iopub.execute_input": "2021-09-08T06:20:41.222869Z",
          "iopub.status.busy": "2021-09-08T06:20:41.221927Z",
          "iopub.status.idle": "2021-09-08T06:20:41.225620Z",
          "shell.execute_reply": "2021-09-08T06:20:41.226135Z"
        },
        "papermill": {
          "duration": 0.05031,
          "end_time": "2021-09-08T06:20:41.226302",
          "exception": false,
          "start_time": "2021-09-08T06:20:41.175992",
          "status": "completed"
        },
        "tags": [],
        "id": "A7QQyBdzEjbG"
      },
      "outputs": [],
      "source": [
        "### Apply the above Model on Test Set\n",
        "y_test, X_test = vec_for_learning(vectorize, test_tagged)\n",
        "X_test = pd.DataFrame(X_test)\n",
        "y_test = np.asarray(y_test)\n",
        "y_pred_test = XGBModel.predict(X_test)"
      ]
    },
    {
      "cell_type": "markdown",
      "metadata": {
        "papermill": {
          "duration": 0.042206,
          "end_time": "2021-09-08T06:20:41.311066",
          "exception": false,
          "start_time": "2021-09-08T06:20:41.268860",
          "status": "completed"
        },
        "tags": [],
        "id": "dxA1Yqp-EjbG"
      },
      "source": [
        "### Lets calculate some Performance Metrics on the Test predictions."
      ]
    },
    {
      "cell_type": "code",
      "execution_count": null,
      "metadata": {
        "execution": {
          "iopub.execute_input": "2021-09-08T06:20:41.399374Z",
          "iopub.status.busy": "2021-09-08T06:20:41.398438Z",
          "iopub.status.idle": "2021-09-08T06:20:41.402970Z",
          "shell.execute_reply": "2021-09-08T06:20:41.402461Z"
        },
        "papermill": {
          "duration": 0.049652,
          "end_time": "2021-09-08T06:20:41.403124",
          "exception": false,
          "start_time": "2021-09-08T06:20:41.353472",
          "status": "completed"
        },
        "tags": [],
        "id": "1MIEHTwoEjbG"
      },
      "outputs": [],
      "source": [
        "accuracy = accuracy_score(y_test, y_pred_test)\n",
        "f1_scr = f1_score(y_test, y_pred_test, average='weighted')\n",
        "print('XGBoost Test Accuracy:', accuracy)\n",
        "print('XGBoost Test F1-Score:', f1_scr)"
      ]
    }
  ],
  "metadata": {
    "kernelspec": {
      "display_name": "Python 3",
      "language": "python",
      "name": "python3"
    },
    "language_info": {
      "codemirror_mode": {
        "name": "ipython",
        "version": 3
      },
      "file_extension": ".py",
      "mimetype": "text/x-python",
      "name": "python",
      "nbconvert_exporter": "python",
      "pygments_lexer": "ipython3",
      "version": "3.11.3"
    },
    "papermill": {
      "default_parameters": {},
      "duration": 1587.968562,
      "end_time": "2021-09-08T06:20:43.614454",
      "environment_variables": {},
      "exception": null,
      "input_path": "__notebook__.ipynb",
      "output_path": "__notebook__.ipynb",
      "parameters": {},
      "start_time": "2021-09-08T05:54:15.645892",
      "version": "2.2.2"
    },
    "colab": {
      "provenance": [],
      "include_colab_link": true
    }
  },
  "nbformat": 4,
  "nbformat_minor": 0
}